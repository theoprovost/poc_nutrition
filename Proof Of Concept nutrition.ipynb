{
 "cells": [
  {
   "cell_type": "code",
   "execution_count": null,
   "id": "190aacf5",
   "metadata": {},
   "outputs": [],
   "source": [
    "import pandas as pd\n",
    "import numpy as np\n",
    "\n",
    "import seaborn as sns"
   ]
  },
  {
   "cell_type": "code",
   "execution_count": null,
   "id": "b041ce28",
   "metadata": {},
   "outputs": [],
   "source": [
    "#pd.set_option('display.max_columns', None)\n",
    "#pd.set_option('display.max_rows', None)"
   ]
  },
  {
   "cell_type": "code",
   "execution_count": null,
   "id": "35274fe9",
   "metadata": {},
   "outputs": [],
   "source": [
    "nutrition_df= pd.read_csv(\"C:/Users/Imen/Downloads/projet nutrition/nutrition.csv\",error_bad_lines= False,delimiter='\\t', nrows=100000)"
   ]
  },
  {
   "cell_type": "code",
   "execution_count": null,
   "id": "8c40f629",
   "metadata": {
    "scrolled": false
   },
   "outputs": [],
   "source": [
    "nutrition_df.shape"
   ]
  },
  {
   "cell_type": "code",
   "execution_count": null,
   "id": "a807ca74",
   "metadata": {},
   "outputs": [],
   "source": [
    "nutrition_df['nutriscore_grade']"
   ]
  },
  {
   "cell_type": "code",
   "execution_count": null,
   "id": "3434d502",
   "metadata": {},
   "outputs": [],
   "source": [
    "for idx,column in enumerate(nutrition_df.columns):\n",
    "    print(idx,column)"
   ]
  },
  {
   "cell_type": "code",
   "execution_count": null,
   "id": "e487dc7a",
   "metadata": {},
   "outputs": [],
   "source": [
    "nutrition_df.dtypes"
   ]
  },
  {
   "cell_type": "code",
   "execution_count": null,
   "id": "5ada08d7",
   "metadata": {},
   "outputs": [],
   "source": [
    "nutrition_df.dtypes.value_counts()"
   ]
  },
  {
   "cell_type": "code",
   "execution_count": null,
   "id": "17120cd6",
   "metadata": {},
   "outputs": [],
   "source": [
    "nutrition_df.isnull().sum()"
   ]
  },
  {
   "cell_type": "code",
   "execution_count": null,
   "id": "e5107019",
   "metadata": {},
   "outputs": [],
   "source": [
    "print(nutrition_df.columns)"
   ]
  },
  {
   "cell_type": "code",
   "execution_count": null,
   "id": "1bf16e12",
   "metadata": {},
   "outputs": [],
   "source": [
    "new_df= nutrition_df[['code', 'url', 'creator','created_t', 'last_modified_t', 'last_modified_datetime',\\\n",
    "                           'product_name','energy_100g', 'saturated-fat_100g',\\\n",
    "                           'carbohydrates_100g', 'proteins_100g', 'salt_100g',\\\n",
    "                           'countries', 'pnns_groups_1',\\\n",
    "                           'pnns_groups_2', 'states', 'states_tags', 'states_en',\\\n",
    "                           'energy-kcal_100g', 'nutrition-score-fr_100g', 'nutriscore_grade', 'nova_group','fiber_100g','pnns_groups_2','additives_n','sugars_100g','carbohydrates_100g','fat_100g']]"
   ]
  },
  {
   "cell_type": "code",
   "execution_count": null,
   "id": "7c6d0b02",
   "metadata": {},
   "outputs": [],
   "source": [
    "new_df.shape"
   ]
  },
  {
   "cell_type": "code",
   "execution_count": null,
   "id": "7dced877",
   "metadata": {},
   "outputs": [],
   "source": [
    "new_df2 = new_df.head(1000000)\n"
   ]
  },
  {
   "cell_type": "code",
   "execution_count": null,
   "id": "f6c3b63c",
   "metadata": {},
   "outputs": [],
   "source": [
    "new_df2.head()"
   ]
  },
  {
   "cell_type": "code",
   "execution_count": null,
   "id": "6b108c9b",
   "metadata": {
    "scrolled": true
   },
   "outputs": [],
   "source": [
    "new_df2.isnull().sum()"
   ]
  },
  {
   "cell_type": "code",
   "execution_count": null,
   "id": "66f75cea",
   "metadata": {},
   "outputs": [],
   "source": [
    "new_df2.dtypes.value_counts()"
   ]
  },
  {
   "cell_type": "code",
   "execution_count": null,
   "id": "e2f00fea",
   "metadata": {},
   "outputs": [],
   "source": [
    "new_df2['nutrition-score-fr_100g']"
   ]
  },
  {
   "cell_type": "code",
   "execution_count": null,
   "id": "3ea81ffc",
   "metadata": {},
   "outputs": [],
   "source": [
    "new_df2.rename(columns = {'nutrition-score-fr_100g': 'nutrition_score_fr_100g'}) "
   ]
  },
  {
   "cell_type": "code",
   "execution_count": null,
   "id": "5b06d260",
   "metadata": {},
   "outputs": [],
   "source": [
    "new_df2.dtypes.value_counts().plot.pie()"
   ]
  },
  {
   "cell_type": "code",
   "execution_count": null,
   "id": "fc73a892",
   "metadata": {},
   "outputs": [],
   "source": [
    "import plotly.express as px\n",
    "sns.heatmap(new_df2.isna())"
   ]
  },
  {
   "cell_type": "code",
   "execution_count": null,
   "id": "9aa03aad",
   "metadata": {},
   "outputs": [],
   "source": [
    "pip install plotly==5.3.1"
   ]
  },
  {
   "cell_type": "code",
   "execution_count": null,
   "id": "b5cb6101",
   "metadata": {},
   "outputs": [],
   "source": []
  },
  {
   "cell_type": "code",
   "execution_count": null,
   "id": "0cc0b22b",
   "metadata": {},
   "outputs": [],
   "source": [
    "columns = list(new_df2.columns)\n",
    "new_df2.plot(kind='box', subplots=True, layout=(4, 4), figsize = (12, 12));"
   ]
  },
  {
   "cell_type": "code",
   "execution_count": null,
   "id": "55d30eda",
   "metadata": {},
   "outputs": [],
   "source": [
    "\n",
    "import pandas as pd\n",
    "import numpy as np\n",
    "import seaborn as sns \n",
    "import matplotlib as plt\n",
    "from matplotlib import pyplot\n",
    "import matplotlib.pyplot as plt\n",
    "%matplotlib inline "
   ]
  },
  {
   "cell_type": "code",
   "execution_count": null,
   "id": "cea25680",
   "metadata": {},
   "outputs": [],
   "source": [
    "#Plot the Distribution plots for the features\n",
    "import warnings\n",
    "warnings.filterwarnings('ignore')\n",
    "plt.figure(figsize=(16,5))\n",
    "plt.subplot(1,2,1)\n",
    "sns.distplot(new_df2['nutrition-score-fr_100g'])"
   ]
  },
  {
   "cell_type": "code",
   "execution_count": null,
   "id": "1e9812d5",
   "metadata": {},
   "outputs": [],
   "source": [
    "#Finding the Boundary Values\n",
    "print(\"Highest allowed\",new_df2['nutrition-score-fr_100g'].mean() + 3*new_df2['nutrition-score-fr_100g'].std())\n",
    "print(\"Lowest allowed\",new_df2['nutrition-score-fr_100g'].mean() - 3*new_df2['nutrition-score-fr_100g'].std())"
   ]
  },
  {
   "cell_type": "code",
   "execution_count": null,
   "id": "06a741c2",
   "metadata": {},
   "outputs": [],
   "source": [
    "# Finding the Outliers\n",
    "new_df2[(new_df2['nutrition-score-fr_100g'] > 35.840) | (new_df2['nutrition-score-fr_100g'] < -17.590)]"
   ]
  },
  {
   "cell_type": "code",
   "execution_count": null,
   "id": "bf20582c",
   "metadata": {},
   "outputs": [],
   "source": [
    "#Trimming of Outliers\n",
    "(new_df2['nutrition-score-fr_100g'] > 35.840) | (new_df2['nutrition-score-fr_100g'] < -17.590)\n",
    "new_df2"
   ]
  },
  {
   "cell_type": "code",
   "execution_count": null,
   "id": "91607f21",
   "metadata": {},
   "outputs": [],
   "source": [
    "#Capping on Outliers\n",
    "upper_limit = new_df2['nutrition-score-fr_100g'].mean() + 3*new_df2['nutrition-score-fr_100g'].std()\n",
    "lower_limit = new_df2['nutrition-score-fr_100g'].mean() - 3*new_df2['nutrition-score-fr_100g'].std()"
   ]
  },
  {
   "cell_type": "code",
   "execution_count": null,
   "id": "e8a20c69",
   "metadata": {},
   "outputs": [],
   "source": [
    "#Now, apply the Capping\n",
    "new_df2['nutrition-score-fr_100g'] = np.where(\n",
    "    new_df2['nutrition-score-fr_100g']>upper_limit,\n",
    "    upper_limit,\n",
    "    np.where(\n",
    "        new_df2['nutrition-score-fr_100g']<lower_limit,\n",
    "        lower_limit,\n",
    "        new_df2['nutrition-score-fr_100g']\n",
    "    )\n",
    ")"
   ]
  },
  {
   "cell_type": "code",
   "execution_count": null,
   "id": "99a20c8a",
   "metadata": {},
   "outputs": [],
   "source": [
    "new_df2['nutrition-score-fr_100g'].describe()"
   ]
  },
  {
   "cell_type": "code",
   "execution_count": null,
   "id": "43dfa1bb",
   "metadata": {},
   "outputs": [],
   "source": [
    "new_df2['nutrition-score-fr_100g']"
   ]
  },
  {
   "cell_type": "code",
   "execution_count": null,
   "id": "3bbaa613",
   "metadata": {},
   "outputs": [],
   "source": [
    "new_df2"
   ]
  },
  {
   "cell_type": "code",
   "execution_count": null,
   "id": "d142c8da",
   "metadata": {},
   "outputs": [],
   "source": [
    "new_df3=new_df2[new_df2['nutrition-score-fr_100g'].isin([1.0,2.0,3.0,4.0])]"
   ]
  },
  {
   "cell_type": "code",
   "execution_count": null,
   "id": "9709c921",
   "metadata": {},
   "outputs": [],
   "source": [
    "new_df3"
   ]
  },
  {
   "cell_type": "code",
   "execution_count": null,
   "id": "88a4c001",
   "metadata": {},
   "outputs": [],
   "source": [
    "new_df3.isnull().sum()"
   ]
  },
  {
   "cell_type": "markdown",
   "id": "bc7058d5",
   "metadata": {},
   "source": [
    "# SQL"
   ]
  },
  {
   "cell_type": "code",
   "execution_count": null,
   "id": "fef03cf0",
   "metadata": {},
   "outputs": [],
   "source": [
    "pip install pymysql"
   ]
  },
  {
   "cell_type": "code",
   "execution_count": null,
   "id": "b8556d57",
   "metadata": {},
   "outputs": [],
   "source": [
    "from sqlalchemy import create_engine"
   ]
  },
  {
   "cell_type": "code",
   "execution_count": null,
   "id": "55413679",
   "metadata": {},
   "outputs": [],
   "source": [
    "# database connection\n",
    "hostname=\"127.0.0.1\"\n",
    "dbname=\"nutrition\"\n",
    "uname=\"root\"\n",
    "pwd=\"root\""
   ]
  },
  {
   "cell_type": "code",
   "execution_count": null,
   "id": "f621f591",
   "metadata": {},
   "outputs": [],
   "source": [
    "# create SQLAlchemy engine to connect to MySQL Database\n",
    "engine = create_engine(\"mysql+pymysql://{user}:{pw}@{host}/{db}\".format(host=hostname, db=dbname, user=uname, pw=pwd))"
   ]
  },
  {
   "cell_type": "code",
   "execution_count": null,
   "id": "852295e3",
   "metadata": {},
   "outputs": [],
   "source": [
    "# export dataframe to sql table                                   \n",
    "new_df3.to_sql('products', engine, index=False)"
   ]
  },
  {
   "cell_type": "markdown",
   "id": "d503c144",
   "metadata": {},
   "source": [
    "# faire des visualisations dynamiques"
   ]
  },
  {
   "cell_type": "code",
   "execution_count": null,
   "id": "178179cd",
   "metadata": {},
   "outputs": [],
   "source": [
    "#Delete product with proteins = 0\n",
    "df_proteins = new_df3[['code','proteins_100g', 'fat_100g', 'sugars_100g', 'salt_100g',\n",
    "                      'energy-kcal_100g', 'energy_100g','nutriscore_grade']]"
   ]
  },
  {
   "cell_type": "code",
   "execution_count": null,
   "id": "5324a277",
   "metadata": {},
   "outputs": [],
   "source": [
    "df_proteins"
   ]
  },
  {
   "cell_type": "code",
   "execution_count": null,
   "id": "07ed0cbc",
   "metadata": {},
   "outputs": [],
   "source": [
    "df_proteins['nutriscore_grade']"
   ]
  },
  {
   "cell_type": "raw",
   "id": "bc0abc51",
   "metadata": {},
   "source": [
    "# def create_interval_column(df_proteins, interval):\n",
    "    inter = []\n",
    "    interval = interval\n",
    "    j = 0\n",
    "    while (j<100):\n",
    "        j = j + interval\n",
    "        inter.append(j)\n",
    "    interval_column = [] \n",
    "    for i in df_proteins['proteins_100g']:\n",
    "        for j in range(len(inter)-1):\n",
    "            if inter[j]<i <=inter[j+1]:\n",
    "                interval_column.append(str(inter[j]) + '-' + str(inter[j+1]))\n",
    "                break\n",
    "    return interval_column"
   ]
  },
  {
   "cell_type": "code",
   "execution_count": null,
   "id": "41670076",
   "metadata": {},
   "outputs": [],
   "source": [
    "import plotly.graph_objects as go\n",
    "columns_to_be_analyzed = ['fat_100g', 'energy-kcal_100g', 'sugars_100g', 'salt_100g']\n",
    "from plotly.subplots import make_subplots\n",
    "new_df3 =new_df3.groupby(by = ['nutriscore_grade']).agg({'fat_100g':'sum' ,'sugars_100g':'sum',\n",
    "                                              'salt_100g':'sum', 'energy-kcal_100g':'sum' }).reset_index()\n",
    "\n",
    "fig = make_subplots(rows = 2, cols = 3, subplot_titles=columns_to_be_analyzed)\n",
    "cnt = 0\n",
    "for i in range(2):\n",
    "    for j in range(3):\n",
    "        if cnt == 4 :\n",
    "            break\n",
    "        fig.add_trace(go.Bar(x = new_df2['nutriscore_grade'].to_numpy(), \n",
    "                             y = new_df2[columns_to_be_analyzed[cnt]].to_numpy()), row = i+1, col=j+1 )\n",
    "        cnt+=1\n",
    "fig.update_layout(  title = 'Columns Vs Number of Purchase',font=dict(\n",
    "        family=\"Courier New, monospace\",size=12,color=\"#7f7f7f\"),showlegend=False,autosize=True,width=1200,height=800)\n",
    "fig.show()"
   ]
  },
  {
   "cell_type": "code",
   "execution_count": null,
   "id": "3bd8659a",
   "metadata": {},
   "outputs": [],
   "source": [
    "df_proteins['proteins_100g'].median()"
   ]
  },
  {
   "cell_type": "code",
   "execution_count": null,
   "id": "32b928b1",
   "metadata": {},
   "outputs": [],
   "source": [
    "df_proteins['good_proteins']= df_proteins['proteins_100g'].apply(lambda x : 0 if x < 4.61 else 1)"
   ]
  },
  {
   "cell_type": "code",
   "execution_count": null,
   "id": "814a9cde",
   "metadata": {},
   "outputs": [],
   "source": [
    "df_proteins"
   ]
  },
  {
   "cell_type": "code",
   "execution_count": null,
   "id": "d2b10086",
   "metadata": {},
   "outputs": [],
   "source": [
    "sns.catplot(x='proteins_100g', y='nutriscore_grade', data=df_proteins, hue=\"good_proteins\")"
   ]
  },
  {
   "cell_type": "code",
   "execution_count": null,
   "id": "94af344c",
   "metadata": {},
   "outputs": [],
   "source": [
    "from sklearn import preprocessing\n",
    "from sklearn.preprocessing import OneHotEncoder"
   ]
  },
  {
   "cell_type": "code",
   "execution_count": null,
   "id": "0595558d",
   "metadata": {},
   "outputs": [],
   "source": [
    " le = preprocessing.LabelEncoder()\n",
    "df_proteins[\"nutriscore_grade\"] =le.fit_transform(df_proteins[\"nutriscore_grade\"])"
   ]
  },
  {
   "cell_type": "code",
   "execution_count": null,
   "id": "177a639f",
   "metadata": {},
   "outputs": [],
   "source": [
    "# define X, y\n"
   ]
  },
  {
   "cell_type": "code",
   "execution_count": null,
   "id": "dad6b97c",
   "metadata": {},
   "outputs": [],
   "source": [
    "df_proteins.isnull().sum()"
   ]
  },
  {
   "cell_type": "code",
   "execution_count": null,
   "id": "57fec17c",
   "metadata": {},
   "outputs": [],
   "source": [
    "df_proteins = df_proteins[df_proteins.fat_100g != 0]"
   ]
  },
  {
   "cell_type": "code",
   "execution_count": null,
   "id": "26ba0704",
   "metadata": {},
   "outputs": [],
   "source": [
    "df_proteins"
   ]
  },
  {
   "cell_type": "code",
   "execution_count": null,
   "id": "c677b545",
   "metadata": {},
   "outputs": [],
   "source": [
    "df_proteins.fillna(0)"
   ]
  },
  {
   "cell_type": "code",
   "execution_count": null,
   "id": "d04dd53b",
   "metadata": {},
   "outputs": [],
   "source": [
    "df_proteins.dropna(0)"
   ]
  },
  {
   "cell_type": "code",
   "execution_count": null,
   "id": "67de30ba",
   "metadata": {},
   "outputs": [],
   "source": [
    "df_proteins.dtypes.value_counts()"
   ]
  },
  {
   "cell_type": "code",
   "execution_count": null,
   "id": "ddd5417a",
   "metadata": {},
   "outputs": [],
   "source": [
    "df_proteins.astype(int)"
   ]
  },
  {
   "cell_type": "code",
   "execution_count": null,
   "id": "0703d591",
   "metadata": {},
   "outputs": [],
   "source": [
    "y = df_proteins[\"good_proteins\"]\n",
    "X = df_proteins.drop(\"good_proteins\", axis=1)"
   ]
  },
  {
   "cell_type": "code",
   "execution_count": null,
   "id": "df4e14aa",
   "metadata": {},
   "outputs": [],
   "source": [
    "from sklearn.model_selection import cross_validate\n",
    "from sklearn.linear_model import LogisticRegression\n",
    "log_model = LogisticRegression(max_iter=1000)\n"
   ]
  },
  {
   "cell_type": "code",
   "execution_count": null,
   "id": "002017fa",
   "metadata": {},
   "outputs": [],
   "source": [
    "print(X.shape)\n",
    "print(y.shape)"
   ]
  },
  {
   "cell_type": "code",
   "execution_count": null,
   "id": "b262d22f",
   "metadata": {},
   "outputs": [],
   "source": [
    "#j'ai volu faire une regression logistique sur \n",
    "log_model.fit(X,y)"
   ]
  },
  {
   "cell_type": "raw",
   "id": "c1e0e498",
   "metadata": {},
   "source": [
    "#########requéte 1\n",
    "select nutriscore_grade, count(product_name) * 100.0 / sum(count(product_name)) over()\n",
    "from produits.data_food \n",
    "group by nutriscore_grade;\n",
    "#######requéte 2\n",
    "-- > Les 4 valeurs possibles du Nova_Group.--\n",
    "SELECT Nova_Group FROM produits.data_food GROUP BY Nova_Group;\n",
    "########requéte 3\n",
    "----- nutriscore_grade\n",
    "SELECT nutriscore_grade ,AVG(fiber_100g) FROM produits.data_food GROUP BY nutriscore_grade;\n",
    "###### requéte 4\n",
    "-- >Quels sont le TOP10 des pnns_groups_2 qui comportent le plus d'additifs\n",
    "SELECT pnns_groups_2,additives_n FROM produits.data_food GROUP BY additives_n ORDER BY max( additives_n) DESC LIMIT 10;\n",
    "#######requéte 5\n",
    "-- > Afficher le taux de sucre/fat moyen et médian des produits avec un nutriscore A ou B\n",
    "nutriscore_grade fat_100g saturated-fat_100g sugars_100g SELECT product_name  ,AVG(sugars_100g/fat_100g )\n",
    "FROM produits.data_food where nutriscore_grade = 'a' or nutriscore_grade ='b' group by product_name  ;\n",
    "##### requéte 6\n",
    "-- > Combien avons-nous de produits qui ont un taux de carbohydrates > aux sucres\n",
    "select count(product_name )FROM produits.data_food where carbohydrates_100g>sugars_100g ;"
   ]
  }
 ],
 "metadata": {
  "kernelspec": {
   "display_name": "Python 3",
   "language": "python",
   "name": "python3"
  },
  "language_info": {
   "codemirror_mode": {
    "name": "ipython",
    "version": 3
   },
   "file_extension": ".py",
   "mimetype": "text/x-python",
   "name": "python",
   "nbconvert_exporter": "python",
   "pygments_lexer": "ipython3",
   "version": "3.8.8"
  }
 },
 "nbformat": 4,
 "nbformat_minor": 5
}
