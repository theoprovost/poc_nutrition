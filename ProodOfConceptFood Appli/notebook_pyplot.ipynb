{
 "cells": [
  {
   "cell_type": "markdown",
   "id": "bcbbebe6",
   "metadata": {},
   "source": [
    "# Visualisation et explication de l'idée pour l'application"
   ]
  },
  {
   "cell_type": "code",
   "execution_count": null,
   "id": "704cae4d",
   "metadata": {},
   "outputs": [],
   "source": [
    "pip install plotly==5.3.1"
   ]
  },
  {
   "cell_type": "code",
   "execution_count": null,
   "id": "33e3fde5",
   "metadata": {},
   "outputs": [],
   "source": [
    "#library\n",
    "import pandas as pd\n",
    "#viz\n",
    "import matplotlib.pyplot as plt\n",
    "import plotly.express as px\n",
    "import plotly.graph_objects as go"
   ]
  },
  {
   "cell_type": "code",
   "execution_count": null,
   "id": "fbe821f5",
   "metadata": {},
   "outputs": [],
   "source": [
    "df = pd.read_csv('data/nutrition.csv')"
   ]
  },
  {
   "cell_type": "code",
   "execution_count": null,
   "id": "c43814a5",
   "metadata": {
    "scrolled": false
   },
   "outputs": [],
   "source": [
    "df['nutriscore_grade']"
   ]
  },
  {
   "cell_type": "code",
   "execution_count": null,
   "id": "8220f3d1",
   "metadata": {
    "scrolled": false
   },
   "outputs": [],
   "source": [
    "columns_to_be_analyzed = ['fat_100g', 'energy-kcal_100g', 'sugars_100g', 'salt_100g','proteins_100g']\n",
    "from plotly.subplots import make_subplots\n",
    "df_proteins =df.groupby(by = ['nutriscore_grade']).agg({'fat_100g':'sum' ,'sugars_100g':'sum',\n",
    "                                              'salt_100g':'sum', 'energy-kcal_100g':'sum','proteins_100g':'sum'}).reset_index()\n",
    "\n",
    "fig = make_subplots(rows = 2, cols = 4, subplot_titles=columns_to_be_analyzed)\n",
    "cnt = 0\n",
    "\n",
    "for i in range(2):\n",
    "    for j in range(3):\n",
    "        if cnt == 4 :\n",
    "            break\n",
    "            \n",
    "        fig.add_trace(go.Bar(x = df_proteins['nutriscore_grade'].to_numpy(), \n",
    "                             y = df_proteins[columns_to_be_analyzed[cnt]].to_numpy()), row = i+1, col=j+1 )\n",
    "        cnt+=1\n",
    "fig.update_layout(  title = 'Columns Vs Number of Purchase',font=dict(\n",
    "        family=\"Courier New, monospace\",size=12,color=\"#7f7f7f\"),showlegend=False,autosize=True,width=1200,height=800)\n",
    "fig.show()"
   ]
  },
  {
   "cell_type": "code",
   "execution_count": null,
   "id": "6915e370",
   "metadata": {
    "scrolled": false
   },
   "outputs": [],
   "source": [
    "cols = ['saturated-fat_100g', 'nutriscore_grade', 'nutrition-score-fr_100g', 'ecoscore_grade_fr']\n",
    "print('\\nVerifiy each cols is in df :\\n')\n",
    "c = 0\n",
    "for x in cols:\n",
    "    if (x in df):\n",
    "        print(f'{x} : OK')\n",
    "        c += 1\n",
    "    else:\n",
    "         print(f'{x} : KO')\n",
    "            \n",
    "if (c == len(cols)):\n",
    "    df = df[cols]\n",
    "    print(f'\\nDF complete : {df.columns.to_list()}.')\n",
    "else: print(f'\\nDF incomplete.')\n",
    "    \n",
    "    \n",
    "print('\\n-------------------------\\n')\n",
    "\n",
    "\n",
    "# Gen multivariate\n",
    "def genMulti():\n",
    "    fig = px.scatter_matrix(df, width=1200, height=1100)\n",
    "    fig.update_layout(\n",
    "        title=\"Multivariate plot of selected labels.\",\n",
    "        font=dict(\n",
    "            size=10\n",
    "        )\n",
    "    )\n",
    "    fig.show();\n",
    "\n",
    "# Gen uni\n",
    "def genUni():\n",
    "    for x in df.columns:\n",
    "        fig = px.histogram(df[[x]], histnorm='percent')\n",
    "        fig.layout.showlegend = False\n",
    "        fig.update_layout(\n",
    "            title=f'Univariate histogram of {x} in % of repartition:',\n",
    "            font=dict(\n",
    "                size=10\n",
    "                )\n",
    "        )\n",
    "        fig.show()\n",
    "    \n",
    "genMulti()\n",
    "print('\\n-------------------------\\n')\n",
    "genUni()"
   ]
  },
  {
   "cell_type": "markdown",
   "id": "6b187971",
   "metadata": {},
   "source": [
    "### Idée de l'application"
   ]
  },
  {
   "cell_type": "markdown",
   "id": "db5459ff",
   "metadata": {},
   "source": [
    "Le but de l'application est de permettre aux utilisateurs de pouvoirs scanner leur produit et que l'IA réagisse de la manière suivante :  \n",
    "Si le produit n'est pas protéiné => Il sera considéré comme n'étant pas dans la liste des produits.  \n",
    "**Si le produit est protéiné** => La liste des produits sortira, dont celle du produit en question, où l'utilisateur pourra voir quel est le classement de son produit par rapport au nutriscore. Il pourra aussi comparer tous les éléments du produit avec les autres (classés du meilleurs ou moins bons).  "
   ]
  },
  {
   "cell_type": "code",
   "execution_count": null,
   "id": "d3e333ed",
   "metadata": {
    "scrolled": true
   },
   "outputs": [],
   "source": [
    "df_nutrition = pd.read_csv('data/nutrition.csv')\n",
    "df_nutrition.head()"
   ]
  },
  {
   "cell_type": "markdown",
   "id": "e702d9e1",
   "metadata": {},
   "source": [
    "### Pour connaître le classement des produits, on procède à un calcule de la median :  "
   ]
  },
  {
   "cell_type": "code",
   "execution_count": null,
   "id": "e314a2f4",
   "metadata": {},
   "outputs": [],
   "source": [
    "print(df_nutrition['proteins_100g'].median())"
   ]
  },
  {
   "cell_type": "code",
   "execution_count": null,
   "id": "f9483fce",
   "metadata": {},
   "outputs": [],
   "source": [
    "df_nutrition['good_proteins']= df_nutrition['proteins_100g'].apply(lambda x : 0 if x <= 7.0 else 1)"
   ]
  },
  {
   "cell_type": "code",
   "execution_count": null,
   "id": "2cea6b02",
   "metadata": {},
   "outputs": [],
   "source": [
    "df_nutrition['good_proteins'].value_counts()"
   ]
  },
  {
   "cell_type": "code",
   "execution_count": null,
   "id": "ce3ada95",
   "metadata": {
    "scrolled": true
   },
   "outputs": [],
   "source": [
    "df_nutrition.head()"
   ]
  },
  {
   "cell_type": "code",
   "execution_count": null,
   "id": "6f5140bb",
   "metadata": {},
   "outputs": [],
   "source": [
    "print(df_nutrition['salt_100g'].median())"
   ]
  },
  {
   "cell_type": "code",
   "execution_count": null,
   "id": "2a578b63",
   "metadata": {},
   "outputs": [],
   "source": [
    "df_nutrition['good_salt']= df_nutrition['salt_100g'].apply(lambda x : 0 if x <= 0.75 else 1)\n",
    "df_nutrition['good_salt'].value_counts()"
   ]
  },
  {
   "cell_type": "code",
   "execution_count": null,
   "id": "037d9e6f",
   "metadata": {},
   "outputs": [],
   "source": [
    "print(df_nutrition['nutrition-score-fr_100g'].median())"
   ]
  },
  {
   "cell_type": "code",
   "execution_count": null,
   "id": "16c870a7",
   "metadata": {},
   "outputs": [],
   "source": [
    "df_nutrition['best_nutrition_score_fr_100g']= df_nutrition['nutrition-score-fr_100g'].apply\\\n",
    "(lambda x : 0 if x <= 11.0 else 1)\n",
    "df_nutrition['best_nutrition_score_fr_100g'].value_counts()"
   ]
  },
  {
   "cell_type": "code",
   "execution_count": null,
   "id": "f31fd3f6",
   "metadata": {},
   "outputs": [],
   "source": [
    "df_food = df_nutrition.drop(labels=[136295, 1661], axis = 0) #suppression de deux données aberrantes"
   ]
  },
  {
   "cell_type": "markdown",
   "id": "1b1236ee",
   "metadata": {},
   "source": [
    "### Classement des produits (par le meilleur en protéine) :  "
   ]
  },
  {
   "cell_type": "code",
   "execution_count": null,
   "id": "e4c3ae19",
   "metadata": {
    "scrolled": true
   },
   "outputs": [],
   "source": [
    "df_food[['product_name',\\\n",
    "         'sugars_100g','proteins_100g','salt_100g',\\\n",
    "         'sodium_100g','nutrition-score-fr_100g',\\\n",
    "         'good_proteins','good_salt',\\\n",
    "         'best_nutrition_score_fr_100g','nutriscore_grade',\\\n",
    "        'energy-kcal_100g','energy_100g']].sort_values(by='proteins_100g',ascending = False)"
   ]
  },
  {
   "cell_type": "code",
   "execution_count": null,
   "id": "32c22f17",
   "metadata": {},
   "outputs": [],
   "source": []
  }
 ],
 "metadata": {
  "kernelspec": {
   "display_name": "Python 3",
   "language": "python",
   "name": "python3"
  },
  "language_info": {
   "codemirror_mode": {
    "name": "ipython",
    "version": 3
   },
   "file_extension": ".py",
   "mimetype": "text/x-python",
   "name": "python",
   "nbconvert_exporter": "python",
   "pygments_lexer": "ipython3",
   "version": "3.8.8"
  }
 },
 "nbformat": 4,
 "nbformat_minor": 5
}
