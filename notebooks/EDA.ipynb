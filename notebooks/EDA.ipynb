{
 "cells": [
  {
   "cell_type": "markdown",
   "id": "a2340428-16de-4ce3-8cd6-50faf4518867",
   "metadata": {},
   "source": [
    "### PoC Nutrition EDA :"
   ]
  },
  {
   "cell_type": "markdown",
   "id": "f5a6d8e3-d803-4326-983b-9f22173339d9",
   "metadata": {},
   "source": [
    "**Table of content :** <br>\n",
    "[📑 | General dataset observations](#obs)  <br>\n",
    "[🔍 | Dataset vizualisation](#viz)  <br>\n",
    "&nbsp;&nbsp;&nbsp;&nbsp;&nbsp;&nbsp;[📊 | Multivariate plots](#multi)  <br>\n",
    "&nbsp;&nbsp;&nbsp;&nbsp;&nbsp;&nbsp;[📈 | Univeriate plots](#uni) <br>"
   ]
  },
  {
   "cell_type": "code",
   "execution_count": 8,
   "id": "91e4bcc3-d46d-43f2-96b7-bd03212d7d3e",
   "metadata": {
    "jupyter": {
     "source_hidden": true
    },
    "tags": []
   },
   "outputs": [
    {
     "name": "stdout",
     "output_type": "stream",
     "text": [
      "⬆️ This contains imports & df.\n"
     ]
    }
   ],
   "source": [
    "import pandas as pd\n",
    "import plotly\n",
    "import plotly.express as px\n",
    "\n",
    "# Mutliple outputs\n",
    "from IPython.core.interactiveshell import InteractiveShell\n",
    "InteractiveShell.ast_node_interactivity = \"all\"\n",
    "\n",
    "# Plots for retina screens\n",
    "%matplotlib inline\n",
    "%config InlineBackend.figure_format='retina'\n",
    "\n",
    "pd.set_option('display.max_columns', None)\n",
    "pd.set_option('display.max_rows', 10)\n",
    "\n",
    "df = pd.read_csv('../data/en.openfoodfacts.org.products_processed.csv')\n",
    "\n",
    "print('⬆️ This contains imports & df.')"
   ]
  },
  {
   "cell_type": "markdown",
   "id": "44088707-09fc-4cd1-8f93-7cbd98e568e8",
   "metadata": {},
   "source": [
    "> ***Nota Bene*** <br>\n",
    "> Those are the results on already processed data. The volume, yet corresponds to the current database situation. <br>"
   ]
  },
  {
   "cell_type": "markdown",
   "id": "432fcc62-8f12-40b4-921f-632f2c703d8f",
   "metadata": {},
   "source": [
    "-----\n",
    "#### 📑 | General dataset observations <a name='obs'></a> <br>"
   ]
  },
  {
   "cell_type": "code",
   "execution_count": 15,
   "id": "352c0f17-32eb-48d4-8f36-02cb26c86813",
   "metadata": {
    "jupyter": {
     "source_hidden": true
    },
    "tags": []
   },
   "outputs": [
    {
     "name": "stdout",
     "output_type": "stream",
     "text": [
      "⬆️ This contains code that generates that ⬇️.\n",
      "\n",
      "\n",
      "-------------------------\n",
      "\n",
      "Dataset structure :\n",
      "\n"
     ]
    },
    {
     "data": {
      "text/plain": [
       "(523, 186)"
      ]
     },
     "execution_count": 15,
     "metadata": {},
     "output_type": "execute_result"
    },
    {
     "name": "stdout",
     "output_type": "stream",
     "text": [
      "\n",
      "-------------------------\n",
      "\n",
      "Count of missing values :\n",
      "\n"
     ]
    },
    {
     "data": {
      "text/html": [
       "<style  type=\"text/css\" >\n",
       "#T_174cf_row0_col7,#T_174cf_row0_col8,#T_174cf_row0_col9,#T_174cf_row0_col10,#T_174cf_row0_col11,#T_174cf_row0_col12,#T_174cf_row0_col13,#T_174cf_row0_col14,#T_174cf_row0_col15,#T_174cf_row0_col16,#T_174cf_row0_col17,#T_174cf_row0_col18,#T_174cf_row0_col19,#T_174cf_row0_col20,#T_174cf_row0_col21,#T_174cf_row0_col22,#T_174cf_row0_col23,#T_174cf_row0_col24,#T_174cf_row0_col25,#T_174cf_row0_col26,#T_174cf_row0_col27,#T_174cf_row0_col28,#T_174cf_row0_col29,#T_174cf_row0_col30,#T_174cf_row0_col31,#T_174cf_row0_col32,#T_174cf_row0_col33,#T_174cf_row0_col34,#T_174cf_row0_col35,#T_174cf_row0_col36,#T_174cf_row0_col37,#T_174cf_row0_col38,#T_174cf_row0_col39,#T_174cf_row0_col40,#T_174cf_row0_col41,#T_174cf_row0_col42,#T_174cf_row0_col43,#T_174cf_row0_col44,#T_174cf_row0_col45,#T_174cf_row0_col46,#T_174cf_row0_col47,#T_174cf_row0_col48,#T_174cf_row0_col49,#T_174cf_row0_col50,#T_174cf_row0_col51,#T_174cf_row0_col52,#T_174cf_row0_col53,#T_174cf_row0_col54,#T_174cf_row0_col55,#T_174cf_row0_col56,#T_174cf_row0_col57,#T_174cf_row0_col58,#T_174cf_row0_col64,#T_174cf_row0_col65,#T_174cf_row0_col66,#T_174cf_row0_col67,#T_174cf_row0_col68,#T_174cf_row0_col69,#T_174cf_row0_col70,#T_174cf_row0_col71,#T_174cf_row0_col72,#T_174cf_row0_col73,#T_174cf_row0_col74,#T_174cf_row0_col75,#T_174cf_row0_col76,#T_174cf_row0_col78,#T_174cf_row0_col81,#T_174cf_row0_col82,#T_174cf_row0_col83,#T_174cf_row0_col84,#T_174cf_row0_col85,#T_174cf_row0_col86,#T_174cf_row0_col87,#T_174cf_row0_col88,#T_174cf_row0_col89,#T_174cf_row0_col90,#T_174cf_row0_col91,#T_174cf_row0_col92,#T_174cf_row0_col93,#T_174cf_row0_col94,#T_174cf_row0_col95,#T_174cf_row0_col96,#T_174cf_row0_col97,#T_174cf_row0_col98,#T_174cf_row0_col99,#T_174cf_row0_col100,#T_174cf_row0_col101,#T_174cf_row0_col102,#T_174cf_row0_col103,#T_174cf_row0_col104,#T_174cf_row0_col105,#T_174cf_row0_col106,#T_174cf_row0_col107,#T_174cf_row0_col108,#T_174cf_row0_col109,#T_174cf_row0_col110,#T_174cf_row0_col111,#T_174cf_row0_col112,#T_174cf_row0_col113,#T_174cf_row0_col114,#T_174cf_row0_col117,#T_174cf_row0_col118,#T_174cf_row0_col119,#T_174cf_row0_col120,#T_174cf_row0_col121,#T_174cf_row0_col122,#T_174cf_row0_col123,#T_174cf_row0_col124,#T_174cf_row0_col125,#T_174cf_row0_col126,#T_174cf_row0_col127,#T_174cf_row0_col129,#T_174cf_row0_col130,#T_174cf_row0_col131,#T_174cf_row0_col134,#T_174cf_row0_col135,#T_174cf_row0_col136,#T_174cf_row0_col137,#T_174cf_row0_col138,#T_174cf_row0_col139,#T_174cf_row0_col140,#T_174cf_row0_col141,#T_174cf_row0_col142,#T_174cf_row0_col143,#T_174cf_row0_col144,#T_174cf_row0_col145,#T_174cf_row0_col146,#T_174cf_row0_col147,#T_174cf_row0_col148,#T_174cf_row0_col149,#T_174cf_row0_col150,#T_174cf_row0_col151,#T_174cf_row0_col152,#T_174cf_row0_col153,#T_174cf_row0_col154,#T_174cf_row0_col155,#T_174cf_row0_col156,#T_174cf_row0_col157,#T_174cf_row0_col158,#T_174cf_row0_col159,#T_174cf_row0_col160,#T_174cf_row0_col161,#T_174cf_row0_col162,#T_174cf_row0_col163,#T_174cf_row0_col164,#T_174cf_row0_col165,#T_174cf_row0_col166,#T_174cf_row0_col167,#T_174cf_row0_col168,#T_174cf_row0_col169,#T_174cf_row0_col170,#T_174cf_row0_col171,#T_174cf_row0_col172,#T_174cf_row0_col173,#T_174cf_row0_col174,#T_174cf_row0_col175,#T_174cf_row0_col176,#T_174cf_row0_col177,#T_174cf_row0_col178,#T_174cf_row0_col179,#T_174cf_row0_col180,#T_174cf_row0_col181,#T_174cf_row0_col182,#T_174cf_row0_col183,#T_174cf_row0_col184,#T_174cf_row0_col185{\n",
       "            background-color :  #ccc;\n",
       "        }</style><table id=\"T_174cf_\" ><thead>    <tr>        <th class=\"blank level0\" ></th>        <th class=\"col_heading level0 col0\" >code</th>        <th class=\"col_heading level0 col1\" >url</th>        <th class=\"col_heading level0 col2\" >creator</th>        <th class=\"col_heading level0 col3\" >created_t</th>        <th class=\"col_heading level0 col4\" >created_datetime</th>        <th class=\"col_heading level0 col5\" >last_modified_t</th>        <th class=\"col_heading level0 col6\" >last_modified_datetime</th>        <th class=\"col_heading level0 col7\" >product_name</th>        <th class=\"col_heading level0 col8\" >abbreviated_product_name</th>        <th class=\"col_heading level0 col9\" >generic_name</th>        <th class=\"col_heading level0 col10\" >quantity</th>        <th class=\"col_heading level0 col11\" >packaging</th>        <th class=\"col_heading level0 col12\" >packaging_tags</th>        <th class=\"col_heading level0 col13\" >packaging_text</th>        <th class=\"col_heading level0 col14\" >brands</th>        <th class=\"col_heading level0 col15\" >brands_tags</th>        <th class=\"col_heading level0 col16\" >categories</th>        <th class=\"col_heading level0 col17\" >categories_tags</th>        <th class=\"col_heading level0 col18\" >categories_en</th>        <th class=\"col_heading level0 col19\" >origins</th>        <th class=\"col_heading level0 col20\" >origins_tags</th>        <th class=\"col_heading level0 col21\" >origins_en</th>        <th class=\"col_heading level0 col22\" >manufacturing_places</th>        <th class=\"col_heading level0 col23\" >manufacturing_places_tags</th>        <th class=\"col_heading level0 col24\" >labels</th>        <th class=\"col_heading level0 col25\" >labels_tags</th>        <th class=\"col_heading level0 col26\" >labels_en</th>        <th class=\"col_heading level0 col27\" >emb_codes</th>        <th class=\"col_heading level0 col28\" >emb_codes_tags</th>        <th class=\"col_heading level0 col29\" >first_packaging_code_geo</th>        <th class=\"col_heading level0 col30\" >cities</th>        <th class=\"col_heading level0 col31\" >cities_tags</th>        <th class=\"col_heading level0 col32\" >purchase_places</th>        <th class=\"col_heading level0 col33\" >stores</th>        <th class=\"col_heading level0 col34\" >countries</th>        <th class=\"col_heading level0 col35\" >countries_tags</th>        <th class=\"col_heading level0 col36\" >countries_en</th>        <th class=\"col_heading level0 col37\" >ingredients_text</th>        <th class=\"col_heading level0 col38\" >allergens</th>        <th class=\"col_heading level0 col39\" >allergens_en</th>        <th class=\"col_heading level0 col40\" >traces</th>        <th class=\"col_heading level0 col41\" >traces_tags</th>        <th class=\"col_heading level0 col42\" >traces_en</th>        <th class=\"col_heading level0 col43\" >serving_size</th>        <th class=\"col_heading level0 col44\" >serving_quantity</th>        <th class=\"col_heading level0 col45\" >no_nutriments</th>        <th class=\"col_heading level0 col46\" >additives_n</th>        <th class=\"col_heading level0 col47\" >additives</th>        <th class=\"col_heading level0 col48\" >additives_tags</th>        <th class=\"col_heading level0 col49\" >additives_en</th>        <th class=\"col_heading level0 col50\" >ingredients_from_palm_oil_n</th>        <th class=\"col_heading level0 col51\" >ingredients_from_palm_oil</th>        <th class=\"col_heading level0 col52\" >ingredients_from_palm_oil_tags</th>        <th class=\"col_heading level0 col53\" >ingredients_that_may_be_from_palm_oil_n</th>        <th class=\"col_heading level0 col54\" >ingredients_that_may_be_from_palm_oil</th>        <th class=\"col_heading level0 col55\" >ingredients_that_may_be_from_palm_oil_tags</th>        <th class=\"col_heading level0 col56\" >nutriscore_score</th>        <th class=\"col_heading level0 col57\" >nutriscore_grade</th>        <th class=\"col_heading level0 col58\" >nova_group</th>        <th class=\"col_heading level0 col59\" >pnns_groups_1</th>        <th class=\"col_heading level0 col60\" >pnns_groups_2</th>        <th class=\"col_heading level0 col61\" >states</th>        <th class=\"col_heading level0 col62\" >states_tags</th>        <th class=\"col_heading level0 col63\" >states_en</th>        <th class=\"col_heading level0 col64\" >brand_owner</th>        <th class=\"col_heading level0 col65\" >ecoscore_score_fr</th>        <th class=\"col_heading level0 col66\" >ecoscore_grade_fr</th>        <th class=\"col_heading level0 col67\" >main_category</th>        <th class=\"col_heading level0 col68\" >main_category_en</th>        <th class=\"col_heading level0 col69\" >image_url</th>        <th class=\"col_heading level0 col70\" >image_small_url</th>        <th class=\"col_heading level0 col71\" >image_ingredients_url</th>        <th class=\"col_heading level0 col72\" >image_ingredients_small_url</th>        <th class=\"col_heading level0 col73\" >image_nutrition_url</th>        <th class=\"col_heading level0 col74\" >image_nutrition_small_url</th>        <th class=\"col_heading level0 col75\" >energy-kj_100g</th>        <th class=\"col_heading level0 col76\" >energy-kcal_100g</th>        <th class=\"col_heading level0 col77\" >energy_100g</th>        <th class=\"col_heading level0 col78\" >energy-from-fat_100g</th>        <th class=\"col_heading level0 col79\" >fat_100g</th>        <th class=\"col_heading level0 col80\" >saturated-fat_100g</th>        <th class=\"col_heading level0 col81\" >-butyric-acid_100g</th>        <th class=\"col_heading level0 col82\" >-caproic-acid_100g</th>        <th class=\"col_heading level0 col83\" >-caprylic-acid_100g</th>        <th class=\"col_heading level0 col84\" >-capric-acid_100g</th>        <th class=\"col_heading level0 col85\" >-lauric-acid_100g</th>        <th class=\"col_heading level0 col86\" >-myristic-acid_100g</th>        <th class=\"col_heading level0 col87\" >-palmitic-acid_100g</th>        <th class=\"col_heading level0 col88\" >-stearic-acid_100g</th>        <th class=\"col_heading level0 col89\" >-arachidic-acid_100g</th>        <th class=\"col_heading level0 col90\" >-behenic-acid_100g</th>        <th class=\"col_heading level0 col91\" >-lignoceric-acid_100g</th>        <th class=\"col_heading level0 col92\" >-cerotic-acid_100g</th>        <th class=\"col_heading level0 col93\" >-montanic-acid_100g</th>        <th class=\"col_heading level0 col94\" >-melissic-acid_100g</th>        <th class=\"col_heading level0 col95\" >monounsaturated-fat_100g</th>        <th class=\"col_heading level0 col96\" >polyunsaturated-fat_100g</th>        <th class=\"col_heading level0 col97\" >omega-3-fat_100g</th>        <th class=\"col_heading level0 col98\" >-alpha-linolenic-acid_100g</th>        <th class=\"col_heading level0 col99\" >-eicosapentaenoic-acid_100g</th>        <th class=\"col_heading level0 col100\" >-docosahexaenoic-acid_100g</th>        <th class=\"col_heading level0 col101\" >omega-6-fat_100g</th>        <th class=\"col_heading level0 col102\" >-linoleic-acid_100g</th>        <th class=\"col_heading level0 col103\" >-arachidonic-acid_100g</th>        <th class=\"col_heading level0 col104\" >-gamma-linolenic-acid_100g</th>        <th class=\"col_heading level0 col105\" >-dihomo-gamma-linolenic-acid_100g</th>        <th class=\"col_heading level0 col106\" >omega-9-fat_100g</th>        <th class=\"col_heading level0 col107\" >-oleic-acid_100g</th>        <th class=\"col_heading level0 col108\" >-elaidic-acid_100g</th>        <th class=\"col_heading level0 col109\" >-gondoic-acid_100g</th>        <th class=\"col_heading level0 col110\" >-mead-acid_100g</th>        <th class=\"col_heading level0 col111\" >-erucic-acid_100g</th>        <th class=\"col_heading level0 col112\" >-nervonic-acid_100g</th>        <th class=\"col_heading level0 col113\" >trans-fat_100g</th>        <th class=\"col_heading level0 col114\" >cholesterol_100g</th>        <th class=\"col_heading level0 col115\" >carbohydrates_100g</th>        <th class=\"col_heading level0 col116\" >sugars_100g</th>        <th class=\"col_heading level0 col117\" >-sucrose_100g</th>        <th class=\"col_heading level0 col118\" >-glucose_100g</th>        <th class=\"col_heading level0 col119\" >-fructose_100g</th>        <th class=\"col_heading level0 col120\" >-lactose_100g</th>        <th class=\"col_heading level0 col121\" >-maltose_100g</th>        <th class=\"col_heading level0 col122\" >-maltodextrins_100g</th>        <th class=\"col_heading level0 col123\" >starch_100g</th>        <th class=\"col_heading level0 col124\" >polyols_100g</th>        <th class=\"col_heading level0 col125\" >fiber_100g</th>        <th class=\"col_heading level0 col126\" >-soluble-fiber_100g</th>        <th class=\"col_heading level0 col127\" >-insoluble-fiber_100g</th>        <th class=\"col_heading level0 col128\" >proteins_100g</th>        <th class=\"col_heading level0 col129\" >casein_100g</th>        <th class=\"col_heading level0 col130\" >serum-proteins_100g</th>        <th class=\"col_heading level0 col131\" >nucleotides_100g</th>        <th class=\"col_heading level0 col132\" >salt_100g</th>        <th class=\"col_heading level0 col133\" >sodium_100g</th>        <th class=\"col_heading level0 col134\" >alcohol_100g</th>        <th class=\"col_heading level0 col135\" >vitamin-a_100g</th>        <th class=\"col_heading level0 col136\" >beta-carotene_100g</th>        <th class=\"col_heading level0 col137\" >vitamin-d_100g</th>        <th class=\"col_heading level0 col138\" >vitamin-e_100g</th>        <th class=\"col_heading level0 col139\" >vitamin-k_100g</th>        <th class=\"col_heading level0 col140\" >vitamin-c_100g</th>        <th class=\"col_heading level0 col141\" >vitamin-b1_100g</th>        <th class=\"col_heading level0 col142\" >vitamin-b2_100g</th>        <th class=\"col_heading level0 col143\" >vitamin-pp_100g</th>        <th class=\"col_heading level0 col144\" >vitamin-b6_100g</th>        <th class=\"col_heading level0 col145\" >vitamin-b9_100g</th>        <th class=\"col_heading level0 col146\" >folates_100g</th>        <th class=\"col_heading level0 col147\" >vitamin-b12_100g</th>        <th class=\"col_heading level0 col148\" >biotin_100g</th>        <th class=\"col_heading level0 col149\" >pantothenic-acid_100g</th>        <th class=\"col_heading level0 col150\" >silica_100g</th>        <th class=\"col_heading level0 col151\" >bicarbonate_100g</th>        <th class=\"col_heading level0 col152\" >potassium_100g</th>        <th class=\"col_heading level0 col153\" >chloride_100g</th>        <th class=\"col_heading level0 col154\" >calcium_100g</th>        <th class=\"col_heading level0 col155\" >phosphorus_100g</th>        <th class=\"col_heading level0 col156\" >iron_100g</th>        <th class=\"col_heading level0 col157\" >magnesium_100g</th>        <th class=\"col_heading level0 col158\" >zinc_100g</th>        <th class=\"col_heading level0 col159\" >copper_100g</th>        <th class=\"col_heading level0 col160\" >manganese_100g</th>        <th class=\"col_heading level0 col161\" >fluoride_100g</th>        <th class=\"col_heading level0 col162\" >selenium_100g</th>        <th class=\"col_heading level0 col163\" >chromium_100g</th>        <th class=\"col_heading level0 col164\" >molybdenum_100g</th>        <th class=\"col_heading level0 col165\" >iodine_100g</th>        <th class=\"col_heading level0 col166\" >caffeine_100g</th>        <th class=\"col_heading level0 col167\" >taurine_100g</th>        <th class=\"col_heading level0 col168\" >ph_100g</th>        <th class=\"col_heading level0 col169\" >fruits-vegetables-nuts_100g</th>        <th class=\"col_heading level0 col170\" >fruits-vegetables-nuts-dried_100g</th>        <th class=\"col_heading level0 col171\" >fruits-vegetables-nuts-estimate_100g</th>        <th class=\"col_heading level0 col172\" >collagen-meat-protein-ratio_100g</th>        <th class=\"col_heading level0 col173\" >cocoa_100g</th>        <th class=\"col_heading level0 col174\" >chlorophyl_100g</th>        <th class=\"col_heading level0 col175\" >carbon-footprint_100g</th>        <th class=\"col_heading level0 col176\" >carbon-footprint-from-meat-or-fish_100g</th>        <th class=\"col_heading level0 col177\" >nutrition-score-fr_100g</th>        <th class=\"col_heading level0 col178\" >nutrition-score-uk_100g</th>        <th class=\"col_heading level0 col179\" >glycemic-index_100g</th>        <th class=\"col_heading level0 col180\" >water-hardness_100g</th>        <th class=\"col_heading level0 col181\" >choline_100g</th>        <th class=\"col_heading level0 col182\" >phylloquinone_100g</th>        <th class=\"col_heading level0 col183\" >beta-glucan_100g</th>        <th class=\"col_heading level0 col184\" >inositol_100g</th>        <th class=\"col_heading level0 col185\" >carnitine_100g</th>    </tr></thead><tbody>\n",
       "                <tr>\n",
       "                        <th id=\"T_174cf_level0_row0\" class=\"row_heading level0 row0\" >0</th>\n",
       "                        <td id=\"T_174cf_row0_col0\" class=\"data row0 col0\" >0</td>\n",
       "                        <td id=\"T_174cf_row0_col1\" class=\"data row0 col1\" >0</td>\n",
       "                        <td id=\"T_174cf_row0_col2\" class=\"data row0 col2\" >0</td>\n",
       "                        <td id=\"T_174cf_row0_col3\" class=\"data row0 col3\" >0</td>\n",
       "                        <td id=\"T_174cf_row0_col4\" class=\"data row0 col4\" >0</td>\n",
       "                        <td id=\"T_174cf_row0_col5\" class=\"data row0 col5\" >0</td>\n",
       "                        <td id=\"T_174cf_row0_col6\" class=\"data row0 col6\" >0</td>\n",
       "                        <td id=\"T_174cf_row0_col7\" class=\"data row0 col7\" >4</td>\n",
       "                        <td id=\"T_174cf_row0_col8\" class=\"data row0 col8\" >523</td>\n",
       "                        <td id=\"T_174cf_row0_col9\" class=\"data row0 col9\" >502</td>\n",
       "                        <td id=\"T_174cf_row0_col10\" class=\"data row0 col10\" >475</td>\n",
       "                        <td id=\"T_174cf_row0_col11\" class=\"data row0 col11\" >483</td>\n",
       "                        <td id=\"T_174cf_row0_col12\" class=\"data row0 col12\" >483</td>\n",
       "                        <td id=\"T_174cf_row0_col13\" class=\"data row0 col13\" >521</td>\n",
       "                        <td id=\"T_174cf_row0_col14\" class=\"data row0 col14\" >316</td>\n",
       "                        <td id=\"T_174cf_row0_col15\" class=\"data row0 col15\" >316</td>\n",
       "                        <td id=\"T_174cf_row0_col16\" class=\"data row0 col16\" >366</td>\n",
       "                        <td id=\"T_174cf_row0_col17\" class=\"data row0 col17\" >366</td>\n",
       "                        <td id=\"T_174cf_row0_col18\" class=\"data row0 col18\" >366</td>\n",
       "                        <td id=\"T_174cf_row0_col19\" class=\"data row0 col19\" >516</td>\n",
       "                        <td id=\"T_174cf_row0_col20\" class=\"data row0 col20\" >516</td>\n",
       "                        <td id=\"T_174cf_row0_col21\" class=\"data row0 col21\" >516</td>\n",
       "                        <td id=\"T_174cf_row0_col22\" class=\"data row0 col22\" >505</td>\n",
       "                        <td id=\"T_174cf_row0_col23\" class=\"data row0 col23\" >505</td>\n",
       "                        <td id=\"T_174cf_row0_col24\" class=\"data row0 col24\" >454</td>\n",
       "                        <td id=\"T_174cf_row0_col25\" class=\"data row0 col25\" >454</td>\n",
       "                        <td id=\"T_174cf_row0_col26\" class=\"data row0 col26\" >454</td>\n",
       "                        <td id=\"T_174cf_row0_col27\" class=\"data row0 col27\" >518</td>\n",
       "                        <td id=\"T_174cf_row0_col28\" class=\"data row0 col28\" >518</td>\n",
       "                        <td id=\"T_174cf_row0_col29\" class=\"data row0 col29\" >518</td>\n",
       "                        <td id=\"T_174cf_row0_col30\" class=\"data row0 col30\" >523</td>\n",
       "                        <td id=\"T_174cf_row0_col31\" class=\"data row0 col31\" >518</td>\n",
       "                        <td id=\"T_174cf_row0_col32\" class=\"data row0 col32\" >497</td>\n",
       "                        <td id=\"T_174cf_row0_col33\" class=\"data row0 col33\" >503</td>\n",
       "                        <td id=\"T_174cf_row0_col34\" class=\"data row0 col34\" >1</td>\n",
       "                        <td id=\"T_174cf_row0_col35\" class=\"data row0 col35\" >1</td>\n",
       "                        <td id=\"T_174cf_row0_col36\" class=\"data row0 col36\" >1</td>\n",
       "                        <td id=\"T_174cf_row0_col37\" class=\"data row0 col37\" >331</td>\n",
       "                        <td id=\"T_174cf_row0_col38\" class=\"data row0 col38\" >490</td>\n",
       "                        <td id=\"T_174cf_row0_col39\" class=\"data row0 col39\" >523</td>\n",
       "                        <td id=\"T_174cf_row0_col40\" class=\"data row0 col40\" >501</td>\n",
       "                        <td id=\"T_174cf_row0_col41\" class=\"data row0 col41\" >489</td>\n",
       "                        <td id=\"T_174cf_row0_col42\" class=\"data row0 col42\" >489</td>\n",
       "                        <td id=\"T_174cf_row0_col43\" class=\"data row0 col43\" >389</td>\n",
       "                        <td id=\"T_174cf_row0_col44\" class=\"data row0 col44\" >391</td>\n",
       "                        <td id=\"T_174cf_row0_col45\" class=\"data row0 col45\" >523</td>\n",
       "                        <td id=\"T_174cf_row0_col46\" class=\"data row0 col46\" >331</td>\n",
       "                        <td id=\"T_174cf_row0_col47\" class=\"data row0 col47\" >523</td>\n",
       "                        <td id=\"T_174cf_row0_col48\" class=\"data row0 col48\" >410</td>\n",
       "                        <td id=\"T_174cf_row0_col49\" class=\"data row0 col49\" >410</td>\n",
       "                        <td id=\"T_174cf_row0_col50\" class=\"data row0 col50\" >331</td>\n",
       "                        <td id=\"T_174cf_row0_col51\" class=\"data row0 col51\" >523</td>\n",
       "                        <td id=\"T_174cf_row0_col52\" class=\"data row0 col52\" >521</td>\n",
       "                        <td id=\"T_174cf_row0_col53\" class=\"data row0 col53\" >331</td>\n",
       "                        <td id=\"T_174cf_row0_col54\" class=\"data row0 col54\" >523</td>\n",
       "                        <td id=\"T_174cf_row0_col55\" class=\"data row0 col55\" >503</td>\n",
       "                        <td id=\"T_174cf_row0_col56\" class=\"data row0 col56\" >370</td>\n",
       "                        <td id=\"T_174cf_row0_col57\" class=\"data row0 col57\" >370</td>\n",
       "                        <td id=\"T_174cf_row0_col58\" class=\"data row0 col58\" >389</td>\n",
       "                        <td id=\"T_174cf_row0_col59\" class=\"data row0 col59\" >0</td>\n",
       "                        <td id=\"T_174cf_row0_col60\" class=\"data row0 col60\" >0</td>\n",
       "                        <td id=\"T_174cf_row0_col61\" class=\"data row0 col61\" >0</td>\n",
       "                        <td id=\"T_174cf_row0_col62\" class=\"data row0 col62\" >0</td>\n",
       "                        <td id=\"T_174cf_row0_col63\" class=\"data row0 col63\" >0</td>\n",
       "                        <td id=\"T_174cf_row0_col64\" class=\"data row0 col64\" >504</td>\n",
       "                        <td id=\"T_174cf_row0_col65\" class=\"data row0 col65\" >436</td>\n",
       "                        <td id=\"T_174cf_row0_col66\" class=\"data row0 col66\" >436</td>\n",
       "                        <td id=\"T_174cf_row0_col67\" class=\"data row0 col67\" >366</td>\n",
       "                        <td id=\"T_174cf_row0_col68\" class=\"data row0 col68\" >366</td>\n",
       "                        <td id=\"T_174cf_row0_col69\" class=\"data row0 col69\" >125</td>\n",
       "                        <td id=\"T_174cf_row0_col70\" class=\"data row0 col70\" >125</td>\n",
       "                        <td id=\"T_174cf_row0_col71\" class=\"data row0 col71\" >200</td>\n",
       "                        <td id=\"T_174cf_row0_col72\" class=\"data row0 col72\" >200</td>\n",
       "                        <td id=\"T_174cf_row0_col73\" class=\"data row0 col73\" >357</td>\n",
       "                        <td id=\"T_174cf_row0_col74\" class=\"data row0 col74\" >357</td>\n",
       "                        <td id=\"T_174cf_row0_col75\" class=\"data row0 col75\" >508</td>\n",
       "                        <td id=\"T_174cf_row0_col76\" class=\"data row0 col76\" >13</td>\n",
       "                        <td id=\"T_174cf_row0_col77\" class=\"data row0 col77\" >0</td>\n",
       "                        <td id=\"T_174cf_row0_col78\" class=\"data row0 col78\" >523</td>\n",
       "                        <td id=\"T_174cf_row0_col79\" class=\"data row0 col79\" >0</td>\n",
       "                        <td id=\"T_174cf_row0_col80\" class=\"data row0 col80\" >0</td>\n",
       "                        <td id=\"T_174cf_row0_col81\" class=\"data row0 col81\" >523</td>\n",
       "                        <td id=\"T_174cf_row0_col82\" class=\"data row0 col82\" >523</td>\n",
       "                        <td id=\"T_174cf_row0_col83\" class=\"data row0 col83\" >523</td>\n",
       "                        <td id=\"T_174cf_row0_col84\" class=\"data row0 col84\" >523</td>\n",
       "                        <td id=\"T_174cf_row0_col85\" class=\"data row0 col85\" >523</td>\n",
       "                        <td id=\"T_174cf_row0_col86\" class=\"data row0 col86\" >523</td>\n",
       "                        <td id=\"T_174cf_row0_col87\" class=\"data row0 col87\" >523</td>\n",
       "                        <td id=\"T_174cf_row0_col88\" class=\"data row0 col88\" >523</td>\n",
       "                        <td id=\"T_174cf_row0_col89\" class=\"data row0 col89\" >523</td>\n",
       "                        <td id=\"T_174cf_row0_col90\" class=\"data row0 col90\" >523</td>\n",
       "                        <td id=\"T_174cf_row0_col91\" class=\"data row0 col91\" >523</td>\n",
       "                        <td id=\"T_174cf_row0_col92\" class=\"data row0 col92\" >523</td>\n",
       "                        <td id=\"T_174cf_row0_col93\" class=\"data row0 col93\" >523</td>\n",
       "                        <td id=\"T_174cf_row0_col94\" class=\"data row0 col94\" >523</td>\n",
       "                        <td id=\"T_174cf_row0_col95\" class=\"data row0 col95\" >519</td>\n",
       "                        <td id=\"T_174cf_row0_col96\" class=\"data row0 col96\" >519</td>\n",
       "                        <td id=\"T_174cf_row0_col97\" class=\"data row0 col97\" >523</td>\n",
       "                        <td id=\"T_174cf_row0_col98\" class=\"data row0 col98\" >523</td>\n",
       "                        <td id=\"T_174cf_row0_col99\" class=\"data row0 col99\" >523</td>\n",
       "                        <td id=\"T_174cf_row0_col100\" class=\"data row0 col100\" >523</td>\n",
       "                        <td id=\"T_174cf_row0_col101\" class=\"data row0 col101\" >523</td>\n",
       "                        <td id=\"T_174cf_row0_col102\" class=\"data row0 col102\" >523</td>\n",
       "                        <td id=\"T_174cf_row0_col103\" class=\"data row0 col103\" >523</td>\n",
       "                        <td id=\"T_174cf_row0_col104\" class=\"data row0 col104\" >523</td>\n",
       "                        <td id=\"T_174cf_row0_col105\" class=\"data row0 col105\" >523</td>\n",
       "                        <td id=\"T_174cf_row0_col106\" class=\"data row0 col106\" >523</td>\n",
       "                        <td id=\"T_174cf_row0_col107\" class=\"data row0 col107\" >523</td>\n",
       "                        <td id=\"T_174cf_row0_col108\" class=\"data row0 col108\" >523</td>\n",
       "                        <td id=\"T_174cf_row0_col109\" class=\"data row0 col109\" >523</td>\n",
       "                        <td id=\"T_174cf_row0_col110\" class=\"data row0 col110\" >523</td>\n",
       "                        <td id=\"T_174cf_row0_col111\" class=\"data row0 col111\" >523</td>\n",
       "                        <td id=\"T_174cf_row0_col112\" class=\"data row0 col112\" >523</td>\n",
       "                        <td id=\"T_174cf_row0_col113\" class=\"data row0 col113\" >465</td>\n",
       "                        <td id=\"T_174cf_row0_col114\" class=\"data row0 col114\" >460</td>\n",
       "                        <td id=\"T_174cf_row0_col115\" class=\"data row0 col115\" >0</td>\n",
       "                        <td id=\"T_174cf_row0_col116\" class=\"data row0 col116\" >0</td>\n",
       "                        <td id=\"T_174cf_row0_col117\" class=\"data row0 col117\" >523</td>\n",
       "                        <td id=\"T_174cf_row0_col118\" class=\"data row0 col118\" >523</td>\n",
       "                        <td id=\"T_174cf_row0_col119\" class=\"data row0 col119\" >523</td>\n",
       "                        <td id=\"T_174cf_row0_col120\" class=\"data row0 col120\" >523</td>\n",
       "                        <td id=\"T_174cf_row0_col121\" class=\"data row0 col121\" >523</td>\n",
       "                        <td id=\"T_174cf_row0_col122\" class=\"data row0 col122\" >523</td>\n",
       "                        <td id=\"T_174cf_row0_col123\" class=\"data row0 col123\" >523</td>\n",
       "                        <td id=\"T_174cf_row0_col124\" class=\"data row0 col124\" >523</td>\n",
       "                        <td id=\"T_174cf_row0_col125\" class=\"data row0 col125\" >352</td>\n",
       "                        <td id=\"T_174cf_row0_col126\" class=\"data row0 col126\" >523</td>\n",
       "                        <td id=\"T_174cf_row0_col127\" class=\"data row0 col127\" >523</td>\n",
       "                        <td id=\"T_174cf_row0_col128\" class=\"data row0 col128\" >0</td>\n",
       "                        <td id=\"T_174cf_row0_col129\" class=\"data row0 col129\" >523</td>\n",
       "                        <td id=\"T_174cf_row0_col130\" class=\"data row0 col130\" >523</td>\n",
       "                        <td id=\"T_174cf_row0_col131\" class=\"data row0 col131\" >523</td>\n",
       "                        <td id=\"T_174cf_row0_col132\" class=\"data row0 col132\" >0</td>\n",
       "                        <td id=\"T_174cf_row0_col133\" class=\"data row0 col133\" >0</td>\n",
       "                        <td id=\"T_174cf_row0_col134\" class=\"data row0 col134\" >522</td>\n",
       "                        <td id=\"T_174cf_row0_col135\" class=\"data row0 col135\" >460</td>\n",
       "                        <td id=\"T_174cf_row0_col136\" class=\"data row0 col136\" >523</td>\n",
       "                        <td id=\"T_174cf_row0_col137\" class=\"data row0 col137\" >521</td>\n",
       "                        <td id=\"T_174cf_row0_col138\" class=\"data row0 col138\" >523</td>\n",
       "                        <td id=\"T_174cf_row0_col139\" class=\"data row0 col139\" >523</td>\n",
       "                        <td id=\"T_174cf_row0_col140\" class=\"data row0 col140\" >461</td>\n",
       "                        <td id=\"T_174cf_row0_col141\" class=\"data row0 col141\" >521</td>\n",
       "                        <td id=\"T_174cf_row0_col142\" class=\"data row0 col142\" >521</td>\n",
       "                        <td id=\"T_174cf_row0_col143\" class=\"data row0 col143\" >521</td>\n",
       "                        <td id=\"T_174cf_row0_col144\" class=\"data row0 col144\" >523</td>\n",
       "                        <td id=\"T_174cf_row0_col145\" class=\"data row0 col145\" >523</td>\n",
       "                        <td id=\"T_174cf_row0_col146\" class=\"data row0 col146\" >523</td>\n",
       "                        <td id=\"T_174cf_row0_col147\" class=\"data row0 col147\" >523</td>\n",
       "                        <td id=\"T_174cf_row0_col148\" class=\"data row0 col148\" >523</td>\n",
       "                        <td id=\"T_174cf_row0_col149\" class=\"data row0 col149\" >523</td>\n",
       "                        <td id=\"T_174cf_row0_col150\" class=\"data row0 col150\" >523</td>\n",
       "                        <td id=\"T_174cf_row0_col151\" class=\"data row0 col151\" >523</td>\n",
       "                        <td id=\"T_174cf_row0_col152\" class=\"data row0 col152\" >520</td>\n",
       "                        <td id=\"T_174cf_row0_col153\" class=\"data row0 col153\" >523</td>\n",
       "                        <td id=\"T_174cf_row0_col154\" class=\"data row0 col154\" >431</td>\n",
       "                        <td id=\"T_174cf_row0_col155\" class=\"data row0 col155\" >523</td>\n",
       "                        <td id=\"T_174cf_row0_col156\" class=\"data row0 col156\" >426</td>\n",
       "                        <td id=\"T_174cf_row0_col157\" class=\"data row0 col157\" >523</td>\n",
       "                        <td id=\"T_174cf_row0_col158\" class=\"data row0 col158\" >523</td>\n",
       "                        <td id=\"T_174cf_row0_col159\" class=\"data row0 col159\" >523</td>\n",
       "                        <td id=\"T_174cf_row0_col160\" class=\"data row0 col160\" >523</td>\n",
       "                        <td id=\"T_174cf_row0_col161\" class=\"data row0 col161\" >523</td>\n",
       "                        <td id=\"T_174cf_row0_col162\" class=\"data row0 col162\" >523</td>\n",
       "                        <td id=\"T_174cf_row0_col163\" class=\"data row0 col163\" >523</td>\n",
       "                        <td id=\"T_174cf_row0_col164\" class=\"data row0 col164\" >523</td>\n",
       "                        <td id=\"T_174cf_row0_col165\" class=\"data row0 col165\" >523</td>\n",
       "                        <td id=\"T_174cf_row0_col166\" class=\"data row0 col166\" >523</td>\n",
       "                        <td id=\"T_174cf_row0_col167\" class=\"data row0 col167\" >523</td>\n",
       "                        <td id=\"T_174cf_row0_col168\" class=\"data row0 col168\" >523</td>\n",
       "                        <td id=\"T_174cf_row0_col169\" class=\"data row0 col169\" >522</td>\n",
       "                        <td id=\"T_174cf_row0_col170\" class=\"data row0 col170\" >523</td>\n",
       "                        <td id=\"T_174cf_row0_col171\" class=\"data row0 col171\" >519</td>\n",
       "                        <td id=\"T_174cf_row0_col172\" class=\"data row0 col172\" >523</td>\n",
       "                        <td id=\"T_174cf_row0_col173\" class=\"data row0 col173\" >522</td>\n",
       "                        <td id=\"T_174cf_row0_col174\" class=\"data row0 col174\" >523</td>\n",
       "                        <td id=\"T_174cf_row0_col175\" class=\"data row0 col175\" >523</td>\n",
       "                        <td id=\"T_174cf_row0_col176\" class=\"data row0 col176\" >520</td>\n",
       "                        <td id=\"T_174cf_row0_col177\" class=\"data row0 col177\" >370</td>\n",
       "                        <td id=\"T_174cf_row0_col178\" class=\"data row0 col178\" >523</td>\n",
       "                        <td id=\"T_174cf_row0_col179\" class=\"data row0 col179\" >523</td>\n",
       "                        <td id=\"T_174cf_row0_col180\" class=\"data row0 col180\" >523</td>\n",
       "                        <td id=\"T_174cf_row0_col181\" class=\"data row0 col181\" >523</td>\n",
       "                        <td id=\"T_174cf_row0_col182\" class=\"data row0 col182\" >523</td>\n",
       "                        <td id=\"T_174cf_row0_col183\" class=\"data row0 col183\" >523</td>\n",
       "                        <td id=\"T_174cf_row0_col184\" class=\"data row0 col184\" >523</td>\n",
       "                        <td id=\"T_174cf_row0_col185\" class=\"data row0 col185\" >523</td>\n",
       "            </tr>\n",
       "    </tbody></table>"
      ],
      "text/plain": [
       "<pandas.io.formats.style.Styler at 0x7fdf9adad580>"
      ]
     },
     "execution_count": 15,
     "metadata": {},
     "output_type": "execute_result"
    },
    {
     "name": "stdout",
     "output_type": "stream",
     "text": [
      "\n",
      "-------------------------\n",
      "\n",
      "Repartition of missing values (% >= 10):\n",
      "\n"
     ]
    },
    {
     "data": {
      "text/html": [
       "<div>\n",
       "<style scoped>\n",
       "    .dataframe tbody tr th:only-of-type {\n",
       "        vertical-align: middle;\n",
       "    }\n",
       "\n",
       "    .dataframe tbody tr th {\n",
       "        vertical-align: top;\n",
       "    }\n",
       "\n",
       "    .dataframe thead th {\n",
       "        text-align: right;\n",
       "    }\n",
       "</style>\n",
       "<table border=\"1\" class=\"dataframe\">\n",
       "  <thead>\n",
       "    <tr style=\"text-align: right;\">\n",
       "      <th></th>\n",
       "      <th>index</th>\n",
       "      <th>Property</th>\n",
       "      <th>%</th>\n",
       "      <th>N</th>\n",
       "    </tr>\n",
       "  </thead>\n",
       "  <tbody>\n",
       "    <tr>\n",
       "      <th>0</th>\n",
       "      <td>93</td>\n",
       "      <td>-montanic-acid_100g</td>\n",
       "      <td>100.00</td>\n",
       "      <td>523 values</td>\n",
       "    </tr>\n",
       "    <tr>\n",
       "      <th>1</th>\n",
       "      <td>117</td>\n",
       "      <td>-sucrose_100g</td>\n",
       "      <td>100.00</td>\n",
       "      <td>523 values</td>\n",
       "    </tr>\n",
       "    <tr>\n",
       "      <th>2</th>\n",
       "      <td>106</td>\n",
       "      <td>omega-9-fat_100g</td>\n",
       "      <td>100.00</td>\n",
       "      <td>523 values</td>\n",
       "    </tr>\n",
       "    <tr>\n",
       "      <th>3</th>\n",
       "      <td>107</td>\n",
       "      <td>-oleic-acid_100g</td>\n",
       "      <td>100.00</td>\n",
       "      <td>523 values</td>\n",
       "    </tr>\n",
       "    <tr>\n",
       "      <th>4</th>\n",
       "      <td>108</td>\n",
       "      <td>-elaidic-acid_100g</td>\n",
       "      <td>100.00</td>\n",
       "      <td>523 values</td>\n",
       "    </tr>\n",
       "    <tr>\n",
       "      <th>...</th>\n",
       "      <td>...</td>\n",
       "      <td>...</td>\n",
       "      <td>...</td>\n",
       "      <td>...</td>\n",
       "    </tr>\n",
       "    <tr>\n",
       "      <th>156</th>\n",
       "      <td>14</td>\n",
       "      <td>brands</td>\n",
       "      <td>60.42</td>\n",
       "      <td>316 values</td>\n",
       "    </tr>\n",
       "    <tr>\n",
       "      <th>157</th>\n",
       "      <td>71</td>\n",
       "      <td>image_ingredients_url</td>\n",
       "      <td>38.24</td>\n",
       "      <td>200 values</td>\n",
       "    </tr>\n",
       "    <tr>\n",
       "      <th>158</th>\n",
       "      <td>72</td>\n",
       "      <td>image_ingredients_small_url</td>\n",
       "      <td>38.24</td>\n",
       "      <td>200 values</td>\n",
       "    </tr>\n",
       "    <tr>\n",
       "      <th>159</th>\n",
       "      <td>69</td>\n",
       "      <td>image_url</td>\n",
       "      <td>23.90</td>\n",
       "      <td>125 values</td>\n",
       "    </tr>\n",
       "    <tr>\n",
       "      <th>160</th>\n",
       "      <td>70</td>\n",
       "      <td>image_small_url</td>\n",
       "      <td>23.90</td>\n",
       "      <td>125 values</td>\n",
       "    </tr>\n",
       "  </tbody>\n",
       "</table>\n",
       "<p>161 rows × 4 columns</p>\n",
       "</div>"
      ],
      "text/plain": [
       "     index                     Property       %           N\n",
       "0       93          -montanic-acid_100g  100.00  523 values\n",
       "1      117                -sucrose_100g  100.00  523 values\n",
       "2      106             omega-9-fat_100g  100.00  523 values\n",
       "3      107             -oleic-acid_100g  100.00  523 values\n",
       "4      108           -elaidic-acid_100g  100.00  523 values\n",
       "..     ...                          ...     ...         ...\n",
       "156     14                       brands   60.42  316 values\n",
       "157     71        image_ingredients_url   38.24  200 values\n",
       "158     72  image_ingredients_small_url   38.24  200 values\n",
       "159     69                    image_url   23.90  125 values\n",
       "160     70              image_small_url   23.90  125 values\n",
       "\n",
       "[161 rows x 4 columns]"
      ]
     },
     "execution_count": 15,
     "metadata": {},
     "output_type": "execute_result"
    },
    {
     "name": "stdout",
     "output_type": "stream",
     "text": [
      "\n",
      "-------------------------\n",
      "\n",
      "Exploration on choosed features :\n",
      "\n"
     ]
    },
    {
     "data": {
      "text/html": [
       "<div>\n",
       "<style scoped>\n",
       "    .dataframe tbody tr th:only-of-type {\n",
       "        vertical-align: middle;\n",
       "    }\n",
       "\n",
       "    .dataframe tbody tr th {\n",
       "        vertical-align: top;\n",
       "    }\n",
       "\n",
       "    .dataframe thead th {\n",
       "        text-align: right;\n",
       "    }\n",
       "</style>\n",
       "<table border=\"1\" class=\"dataframe\">\n",
       "  <thead>\n",
       "    <tr style=\"text-align: right;\">\n",
       "      <th></th>\n",
       "      <th>Property</th>\n",
       "      <th>%</th>\n",
       "      <th>N</th>\n",
       "    </tr>\n",
       "  </thead>\n",
       "  <tbody>\n",
       "    <tr>\n",
       "      <th>75</th>\n",
       "      <td>energy-kj_100g</td>\n",
       "      <td>97.13</td>\n",
       "      <td>508 values</td>\n",
       "    </tr>\n",
       "    <tr>\n",
       "      <th>76</th>\n",
       "      <td>energy-kcal_100g</td>\n",
       "      <td>2.49</td>\n",
       "      <td>13 values</td>\n",
       "    </tr>\n",
       "    <tr>\n",
       "      <th>80</th>\n",
       "      <td>saturated-fat_100g</td>\n",
       "      <td>0.00</td>\n",
       "      <td>0 values</td>\n",
       "    </tr>\n",
       "    <tr>\n",
       "      <th>79</th>\n",
       "      <td>fat_100g</td>\n",
       "      <td>0.00</td>\n",
       "      <td>0 values</td>\n",
       "    </tr>\n",
       "    <tr>\n",
       "      <th>132</th>\n",
       "      <td>salt_100g</td>\n",
       "      <td>0.00</td>\n",
       "      <td>0 values</td>\n",
       "    </tr>\n",
       "    <tr>\n",
       "      <th>128</th>\n",
       "      <td>proteins_100g</td>\n",
       "      <td>0.00</td>\n",
       "      <td>0 values</td>\n",
       "    </tr>\n",
       "    <tr>\n",
       "      <th>116</th>\n",
       "      <td>sugars_100g</td>\n",
       "      <td>0.00</td>\n",
       "      <td>0 values</td>\n",
       "    </tr>\n",
       "    <tr>\n",
       "      <th>115</th>\n",
       "      <td>carbohydrates_100g</td>\n",
       "      <td>0.00</td>\n",
       "      <td>0 values</td>\n",
       "    </tr>\n",
       "    <tr>\n",
       "      <th>77</th>\n",
       "      <td>energy_100g</td>\n",
       "      <td>0.00</td>\n",
       "      <td>0 values</td>\n",
       "    </tr>\n",
       "  </tbody>\n",
       "</table>\n",
       "</div>"
      ],
      "text/plain": [
       "               Property      %           N\n",
       "75       energy-kj_100g  97.13  508 values\n",
       "76     energy-kcal_100g   2.49   13 values\n",
       "80   saturated-fat_100g   0.00    0 values\n",
       "79             fat_100g   0.00    0 values\n",
       "132           salt_100g   0.00    0 values\n",
       "128       proteins_100g   0.00    0 values\n",
       "116         sugars_100g   0.00    0 values\n",
       "115  carbohydrates_100g   0.00    0 values\n",
       "77          energy_100g   0.00    0 values"
      ]
     },
     "execution_count": 15,
     "metadata": {},
     "output_type": "execute_result"
    },
    {
     "name": "stdout",
     "output_type": "stream",
     "text": [
      "\n",
      "Given the `energy-kj_100g` important missing values (> 90%), we should propably avoid to work with this feature. However, we can fall back to the other energy's related fields.\n",
      "\n",
      "-------------------------\n",
      "\n"
     ]
    }
   ],
   "source": [
    "print('⬆️ This contains code that generates that ⬇️.\\n')\n",
    "\n",
    "print('\\n-------------------------')\n",
    "\n",
    "print('\\nDataset structure :\\n')\n",
    "df.shape\n",
    "\n",
    "print('\\n-------------------------\\n')\n",
    "\n",
    "\n",
    "print('Count of missing values :\\n')\n",
    "missing_df = pd.DataFrame(df.isna().sum())\n",
    "missing_df.T.style.applymap(lambda x: 'background-color : #ccc' if x>0 else '')\n",
    "\n",
    "print('\\n-------------------------\\n')\n",
    "\n",
    "print('Repartition of missing values (% >= 10):\\n')\n",
    "missing_df = missing_df.T\n",
    "arr = []\n",
    "for x in missing_df:\n",
    "    val = missing_df[x].values[0]\n",
    "    perc_missing_income = (val / len(df[x])) * 100\n",
    "    arr.append([x, perc_missing_income.round(2),  f'{val} values'])\n",
    "        \n",
    "        \n",
    "all_df_missing = pd.DataFrame(arr, columns=['Property', '%', 'N']).sort_values(by='%', ascending=False).reset_index()\n",
    "all_df_missing = all_df_missing[all_df_missing['%'] >= 10]\n",
    "all_df_missing\n",
    "\n",
    "print('\\n-------------------------\\n')\n",
    "\n",
    "print('Exploration on choosed features :\\n')\n",
    "targeted_columns = ['fat_100g', 'saturated-fat_100g', 'carbohydrates_100g', 'sugars_100g', 'proteins_100g', 'salt_100g', 'energy-kj_100g', 'energy-kcal_100g', 'energy_100g']\n",
    "selected_df_missing = pd.DataFrame(arr, columns=['Property', '%', 'N']).sort_values(by='%', ascending=False)\n",
    "selected_df_missing[selected_df_missing['Property'].isin(targeted_columns)]\n",
    "print('\\nGiven the `energy-kj_100g` important missing values (> 90%), we should propably avoid to work with this feature. However, we can fall back to the other energy\\'s related fields.')\n",
    "\n",
    "print('\\n-------------------------\\n')"
   ]
  },
  {
   "cell_type": "markdown",
   "id": "f9e24d47-900a-42fe-9d17-acc140516ae5",
   "metadata": {},
   "source": [
    "---------------\n",
    "#### 🔍 | Dataset vizualisation <a name='viz'></a>"
   ]
  },
  {
   "cell_type": "markdown",
   "id": "f211cb1d-8abe-4ab3-b955-1f3321b972f4",
   "metadata": {},
   "source": [
    "> 💡 For this part, python scripts responsible for plotting (and/or saving as html) can be found here `./scripts/generate_charts.py`. But here is a code extract :\n",
    "\n",
    "```python\n",
    "def genUni(df, mode='w'):\n",
    "    '''Function that plot (if mode == s or ws), and returns\n",
    "        a list of list of :\n",
    "        - plot name\n",
    "        - plot HTML div w/ JS script\n",
    "\n",
    "     Mode :\n",
    "        'w' : writes\n",
    "        's' : show\n",
    "        'ws' : write and show\n",
    "\n",
    "    NB: mode other than w are meant to be used in a jupyter env\n",
    "    '''\n",
    "    divs = []\n",
    "    for x in df.columns:\n",
    "        fig = px.histogram(df[[x]], histnorm='percent')\n",
    "        fig.layout.showlegend = False\n",
    "        fig.update_layout(\n",
    "            title=f'Univariate histogram of {x}:',\n",
    "            font=dict(\n",
    "                size=10\n",
    "            )\n",
    "        )\n",
    "        divs.append([fig['layout']['title']['text'],\n",
    "                     plotly.offline.plot(fig, include_plotlyjs=False, output_type='div')])\n",
    "\n",
    "    if (mode == 'w'):\n",
    "        return divs\n",
    "    elif (mode == 's'):\n",
    "        fig.show()\n",
    "        return False\n",
    "    elif (mode == 'ws'):\n",
    "        fig.show()\n",
    "        return divs\n",
    "    else:\n",
    "        return False\n",
    "\n",
    "```\n",
    "\n",
    "<br>\n",
    "\n",
    ">The script contains 3 methods :\n",
    "> - `genMulti()` : generate multivariate scatter matrix\n",
    ">- `genUni()` : generate univariate histogramm\n",
    ">- `main()` : generate plots and save them to given folder"
   ]
  },
  {
   "cell_type": "markdown",
   "id": "0504e13e-5867-43c8-afe6-75e37c10c13a",
   "metadata": {},
   "source": [
    "#### 📊 | Multivariate plots & 📈 | Univeriate plots <a name='uni'></a>"
   ]
  },
  {
   "cell_type": "markdown",
   "id": "b9b5c2bd-237b-4148-b712-73b2167174df",
   "metadata": {},
   "source": [
    "> Produced charts are visible on the demo app. Please visit the app's [/charts](https://localhost:8443/charts) to get the plot index and links. <br>\n",
    "> Herebelow, you'll find a multivariate histogramm of the `sugars_100g` label."
   ]
  },
  {
   "cell_type": "code",
   "execution_count": 18,
   "id": "2c934e9f-195e-4c61-8ea6-f0beee5da7b9",
   "metadata": {
    "jupyter": {
     "source_hidden": true
    },
    "tags": []
   },
   "outputs": [
    {
     "name": "stdout",
     "output_type": "stream",
     "text": [
      "⬆️ this made that ⬇️\n",
      "\n"
     ]
    },
    {
     "data": {
      "application/vnd.plotly.v1+json": {
       "config": {
        "plotlyServerURL": "https://plot.ly"
       },
       "data": [
        {
         "alignmentgroup": "True",
         "bingroup": "x",
         "histnorm": "percent",
         "hovertemplate": "variable=sugars_100g<br>value=%{x}<br>percent=%{y}<extra></extra>",
         "legendgroup": "sugars_100g",
         "marker": {
          "color": "#636efa",
          "pattern": {
           "shape": ""
          }
         },
         "name": "sugars_100g",
         "offsetgroup": "sugars_100g",
         "orientation": "v",
         "showlegend": true,
         "type": "histogram",
         "x": [
          15,
          1,
          22,
          0.4,
          3,
          15.5,
          3.9,
          16.3,
          1.6,
          1.8,
          27,
          2,
          1.7,
          21.9,
          44,
          23,
          20,
          7.5,
          0,
          12.7,
          27,
          0.9,
          1.2,
          1,
          0.6,
          3.8,
          1.4,
          1,
          2.1,
          21.6,
          10,
          1,
          4.6,
          0.1,
          11,
          38,
          1.4,
          14.29,
          17.86,
          1.3,
          17.4,
          0.1,
          0.7,
          0.9,
          3,
          1.7,
          2.3,
          0.6,
          1.6,
          0.5,
          2,
          1,
          40,
          6.5,
          0,
          1,
          2,
          1.4,
          0.9,
          2,
          0,
          3.3,
          1.9,
          4.9,
          4.1,
          63,
          1.9,
          55,
          1.6,
          1.9,
          0.01,
          1.9,
          3.57,
          15.62,
          3.33,
          29.8,
          24.1,
          21.82,
          3.57,
          2.38,
          32.5,
          30,
          27.27,
          6.67,
          33.33,
          5.56,
          6.67,
          6.67,
          3.33,
          37.5,
          3.92,
          29.09,
          7,
          21.43,
          37.5,
          0.5,
          0.075,
          0,
          39,
          12.8,
          9.09,
          32.3,
          12.73,
          12.3,
          1.54,
          5.17,
          25.45,
          14.29,
          21.6,
          3.57,
          3.57,
          3.57,
          3.57,
          32,
          33.33,
          16.3,
          26.67,
          36.67,
          57.5,
          2.94,
          47.5,
          3.6,
          16.36,
          1.6,
          51,
          66.67,
          52.5,
          14.29,
          21.82,
          65,
          42.5,
          17.86,
          1,
          10.71,
          5.88,
          6.41,
          29,
          82,
          58,
          58,
          13.8,
          0.25,
          35,
          0,
          37,
          0.5,
          1.4,
          2,
          0,
          61,
          6,
          71,
          24.3,
          22,
          2.7,
          25,
          59,
          0,
          24.3,
          2.1,
          0,
          13.8,
          69.8,
          4.4,
          2.4,
          0.5,
          13,
          1,
          85.4,
          85.4,
          0,
          2.2,
          56,
          54,
          24.7,
          14,
          20,
          70,
          11,
          3.3,
          8.5,
          54,
          50.8,
          54,
          2.1,
          1.7,
          70,
          1.11,
          0.1,
          1,
          1,
          1,
          0.5,
          0.6,
          0,
          1,
          9.4,
          3,
          0,
          24,
          12.7,
          0.6,
          0.714,
          66,
          93.3,
          32.6,
          50.4,
          51.7,
          0.1,
          58.9,
          75,
          75,
          70.54,
          70.04,
          69.97,
          0,
          42,
          81.67,
          0,
          0,
          0,
          0,
          81.67,
          55,
          41.3,
          58,
          58,
          58,
          65,
          55.7,
          84.7,
          84.7,
          84.7,
          84.7,
          84.7,
          84.7,
          96.2,
          96.5,
          23,
          20,
          36.29,
          43.67,
          24.61,
          41,
          50,
          53.9,
          15,
          3.25,
          0.1,
          19,
          36,
          58,
          0.2,
          43,
          1.9,
          1.8,
          59,
          5.19,
          25.93,
          2.13,
          2.67,
          9.33,
          37.17,
          4.71,
          30.59,
          28.24,
          35.71,
          32.94,
          25.88,
          0,
          23.58,
          32.14,
          18.82,
          15.29,
          32.41,
          21.43,
          11.67,
          22.03,
          0,
          0,
          37,
          46,
          51.5,
          29.41,
          46.43,
          0.9,
          3.2,
          2.9,
          2.9,
          2.2,
          1.2,
          2.9,
          15,
          14,
          19,
          17,
          12,
          0,
          12,
          16,
          5.1,
          16,
          44,
          44,
          50.09,
          1.6,
          0,
          19,
          50,
          44.2,
          22,
          50,
          0.9,
          2,
          0.12,
          40.3,
          6.9,
          4.7,
          3.8,
          51.6,
          5,
          10.4,
          3.3,
          0.28,
          21.5,
          17,
          17,
          59,
          64.8,
          65,
          56,
          12,
          20.8,
          0.7,
          10.7,
          0.6,
          0,
          32.7,
          1,
          35,
          0,
          3.6,
          0.1,
          0,
          0.8,
          1,
          8.4,
          1.6,
          0.5,
          2.8,
          1.5,
          12.8,
          2.8,
          2.5,
          1.5,
          0.6,
          3.5,
          4.2,
          1,
          2.6,
          3.7,
          1.6,
          0.5,
          0.01,
          0.1,
          0.3,
          1.6,
          3,
          3.6,
          2.4,
          2,
          1.4,
          2,
          16.5,
          24.3,
          2.9,
          0.5,
          0.6,
          1.1,
          2.2,
          1,
          0.6,
          28.2,
          1.2,
          2.8,
          1.7,
          30.2,
          1,
          1,
          2,
          6.5,
          2.4,
          1.2,
          0.9,
          1.8,
          1.4,
          1.1,
          1.2,
          0.8,
          4.2,
          4.1,
          1.7,
          2.1,
          2.6,
          0.6,
          1.3,
          0.1,
          1.7,
          15.8,
          25,
          17.3,
          1.5,
          7.3,
          0.6,
          14,
          0,
          47.1,
          0.5,
          0,
          27,
          56,
          0.15,
          1.2,
          22.8,
          22.8,
          10.4,
          2.6,
          2.3,
          1.3,
          22.5,
          3,
          3.1,
          26,
          18,
          32,
          0.2,
          1.4,
          38.461538461538,
          38.400001525879,
          91.2,
          0,
          0,
          1.5,
          0.5,
          1.7,
          1.1,
          1.6,
          0,
          46.19,
          8.77,
          8.77,
          8.7,
          10,
          4.6511627906977,
          12.4,
          19,
          31,
          0,
          35,
          0,
          26.6,
          1,
          19,
          19,
          2.94,
          20,
          0.5,
          19,
          16,
          21.1,
          2.6,
          30,
          23.8,
          18.2,
          1.2,
          88,
          0,
          7.4,
          5.88,
          2.56,
          21.7,
          5.4,
          25,
          0.5,
          0,
          22,
          0.5,
          42,
          29,
          0,
          3.1,
          6.5,
          28,
          18,
          0.7,
          35,
          0.9,
          2.1,
          34.38,
          34,
          0.2,
          25,
          29,
          8.67,
          10,
          49.6,
          43.6,
          56,
          38.6,
          0.5,
          51.6,
          28.57,
          28.57,
          17.65,
          17.65,
          16.9,
          18.31,
          15.49,
          1.1,
          2.52,
          1.6,
          1.62,
          24
         ],
         "xaxis": "x",
         "yaxis": "y"
        }
       ],
       "layout": {
        "autosize": true,
        "barmode": "relative",
        "font": {
         "size": 10
        },
        "legend": {
         "title": {
          "text": "variable"
         },
         "tracegroupgap": 0
        },
        "margin": {
         "t": 60
        },
        "showlegend": false,
        "template": {
         "data": {
          "bar": [
           {
            "error_x": {
             "color": "#2a3f5f"
            },
            "error_y": {
             "color": "#2a3f5f"
            },
            "marker": {
             "line": {
              "color": "#E5ECF6",
              "width": 0.5
             },
             "pattern": {
              "fillmode": "overlay",
              "size": 10,
              "solidity": 0.2
             }
            },
            "type": "bar"
           }
          ],
          "barpolar": [
           {
            "marker": {
             "line": {
              "color": "#E5ECF6",
              "width": 0.5
             },
             "pattern": {
              "fillmode": "overlay",
              "size": 10,
              "solidity": 0.2
             }
            },
            "type": "barpolar"
           }
          ],
          "carpet": [
           {
            "aaxis": {
             "endlinecolor": "#2a3f5f",
             "gridcolor": "white",
             "linecolor": "white",
             "minorgridcolor": "white",
             "startlinecolor": "#2a3f5f"
            },
            "baxis": {
             "endlinecolor": "#2a3f5f",
             "gridcolor": "white",
             "linecolor": "white",
             "minorgridcolor": "white",
             "startlinecolor": "#2a3f5f"
            },
            "type": "carpet"
           }
          ],
          "choropleth": [
           {
            "colorbar": {
             "outlinewidth": 0,
             "ticks": ""
            },
            "type": "choropleth"
           }
          ],
          "contour": [
           {
            "colorbar": {
             "outlinewidth": 0,
             "ticks": ""
            },
            "colorscale": [
             [
              0,
              "#0d0887"
             ],
             [
              0.1111111111111111,
              "#46039f"
             ],
             [
              0.2222222222222222,
              "#7201a8"
             ],
             [
              0.3333333333333333,
              "#9c179e"
             ],
             [
              0.4444444444444444,
              "#bd3786"
             ],
             [
              0.5555555555555556,
              "#d8576b"
             ],
             [
              0.6666666666666666,
              "#ed7953"
             ],
             [
              0.7777777777777778,
              "#fb9f3a"
             ],
             [
              0.8888888888888888,
              "#fdca26"
             ],
             [
              1,
              "#f0f921"
             ]
            ],
            "type": "contour"
           }
          ],
          "contourcarpet": [
           {
            "colorbar": {
             "outlinewidth": 0,
             "ticks": ""
            },
            "type": "contourcarpet"
           }
          ],
          "heatmap": [
           {
            "colorbar": {
             "outlinewidth": 0,
             "ticks": ""
            },
            "colorscale": [
             [
              0,
              "#0d0887"
             ],
             [
              0.1111111111111111,
              "#46039f"
             ],
             [
              0.2222222222222222,
              "#7201a8"
             ],
             [
              0.3333333333333333,
              "#9c179e"
             ],
             [
              0.4444444444444444,
              "#bd3786"
             ],
             [
              0.5555555555555556,
              "#d8576b"
             ],
             [
              0.6666666666666666,
              "#ed7953"
             ],
             [
              0.7777777777777778,
              "#fb9f3a"
             ],
             [
              0.8888888888888888,
              "#fdca26"
             ],
             [
              1,
              "#f0f921"
             ]
            ],
            "type": "heatmap"
           }
          ],
          "heatmapgl": [
           {
            "colorbar": {
             "outlinewidth": 0,
             "ticks": ""
            },
            "colorscale": [
             [
              0,
              "#0d0887"
             ],
             [
              0.1111111111111111,
              "#46039f"
             ],
             [
              0.2222222222222222,
              "#7201a8"
             ],
             [
              0.3333333333333333,
              "#9c179e"
             ],
             [
              0.4444444444444444,
              "#bd3786"
             ],
             [
              0.5555555555555556,
              "#d8576b"
             ],
             [
              0.6666666666666666,
              "#ed7953"
             ],
             [
              0.7777777777777778,
              "#fb9f3a"
             ],
             [
              0.8888888888888888,
              "#fdca26"
             ],
             [
              1,
              "#f0f921"
             ]
            ],
            "type": "heatmapgl"
           }
          ],
          "histogram": [
           {
            "marker": {
             "pattern": {
              "fillmode": "overlay",
              "size": 10,
              "solidity": 0.2
             }
            },
            "type": "histogram"
           }
          ],
          "histogram2d": [
           {
            "colorbar": {
             "outlinewidth": 0,
             "ticks": ""
            },
            "colorscale": [
             [
              0,
              "#0d0887"
             ],
             [
              0.1111111111111111,
              "#46039f"
             ],
             [
              0.2222222222222222,
              "#7201a8"
             ],
             [
              0.3333333333333333,
              "#9c179e"
             ],
             [
              0.4444444444444444,
              "#bd3786"
             ],
             [
              0.5555555555555556,
              "#d8576b"
             ],
             [
              0.6666666666666666,
              "#ed7953"
             ],
             [
              0.7777777777777778,
              "#fb9f3a"
             ],
             [
              0.8888888888888888,
              "#fdca26"
             ],
             [
              1,
              "#f0f921"
             ]
            ],
            "type": "histogram2d"
           }
          ],
          "histogram2dcontour": [
           {
            "colorbar": {
             "outlinewidth": 0,
             "ticks": ""
            },
            "colorscale": [
             [
              0,
              "#0d0887"
             ],
             [
              0.1111111111111111,
              "#46039f"
             ],
             [
              0.2222222222222222,
              "#7201a8"
             ],
             [
              0.3333333333333333,
              "#9c179e"
             ],
             [
              0.4444444444444444,
              "#bd3786"
             ],
             [
              0.5555555555555556,
              "#d8576b"
             ],
             [
              0.6666666666666666,
              "#ed7953"
             ],
             [
              0.7777777777777778,
              "#fb9f3a"
             ],
             [
              0.8888888888888888,
              "#fdca26"
             ],
             [
              1,
              "#f0f921"
             ]
            ],
            "type": "histogram2dcontour"
           }
          ],
          "mesh3d": [
           {
            "colorbar": {
             "outlinewidth": 0,
             "ticks": ""
            },
            "type": "mesh3d"
           }
          ],
          "parcoords": [
           {
            "line": {
             "colorbar": {
              "outlinewidth": 0,
              "ticks": ""
             }
            },
            "type": "parcoords"
           }
          ],
          "pie": [
           {
            "automargin": true,
            "type": "pie"
           }
          ],
          "scatter": [
           {
            "marker": {
             "colorbar": {
              "outlinewidth": 0,
              "ticks": ""
             }
            },
            "type": "scatter"
           }
          ],
          "scatter3d": [
           {
            "line": {
             "colorbar": {
              "outlinewidth": 0,
              "ticks": ""
             }
            },
            "marker": {
             "colorbar": {
              "outlinewidth": 0,
              "ticks": ""
             }
            },
            "type": "scatter3d"
           }
          ],
          "scattercarpet": [
           {
            "marker": {
             "colorbar": {
              "outlinewidth": 0,
              "ticks": ""
             }
            },
            "type": "scattercarpet"
           }
          ],
          "scattergeo": [
           {
            "marker": {
             "colorbar": {
              "outlinewidth": 0,
              "ticks": ""
             }
            },
            "type": "scattergeo"
           }
          ],
          "scattergl": [
           {
            "marker": {
             "colorbar": {
              "outlinewidth": 0,
              "ticks": ""
             }
            },
            "type": "scattergl"
           }
          ],
          "scattermapbox": [
           {
            "marker": {
             "colorbar": {
              "outlinewidth": 0,
              "ticks": ""
             }
            },
            "type": "scattermapbox"
           }
          ],
          "scatterpolar": [
           {
            "marker": {
             "colorbar": {
              "outlinewidth": 0,
              "ticks": ""
             }
            },
            "type": "scatterpolar"
           }
          ],
          "scatterpolargl": [
           {
            "marker": {
             "colorbar": {
              "outlinewidth": 0,
              "ticks": ""
             }
            },
            "type": "scatterpolargl"
           }
          ],
          "scatterternary": [
           {
            "marker": {
             "colorbar": {
              "outlinewidth": 0,
              "ticks": ""
             }
            },
            "type": "scatterternary"
           }
          ],
          "surface": [
           {
            "colorbar": {
             "outlinewidth": 0,
             "ticks": ""
            },
            "colorscale": [
             [
              0,
              "#0d0887"
             ],
             [
              0.1111111111111111,
              "#46039f"
             ],
             [
              0.2222222222222222,
              "#7201a8"
             ],
             [
              0.3333333333333333,
              "#9c179e"
             ],
             [
              0.4444444444444444,
              "#bd3786"
             ],
             [
              0.5555555555555556,
              "#d8576b"
             ],
             [
              0.6666666666666666,
              "#ed7953"
             ],
             [
              0.7777777777777778,
              "#fb9f3a"
             ],
             [
              0.8888888888888888,
              "#fdca26"
             ],
             [
              1,
              "#f0f921"
             ]
            ],
            "type": "surface"
           }
          ],
          "table": [
           {
            "cells": {
             "fill": {
              "color": "#EBF0F8"
             },
             "line": {
              "color": "white"
             }
            },
            "header": {
             "fill": {
              "color": "#C8D4E3"
             },
             "line": {
              "color": "white"
             }
            },
            "type": "table"
           }
          ]
         },
         "layout": {
          "annotationdefaults": {
           "arrowcolor": "#2a3f5f",
           "arrowhead": 0,
           "arrowwidth": 1
          },
          "autotypenumbers": "strict",
          "coloraxis": {
           "colorbar": {
            "outlinewidth": 0,
            "ticks": ""
           }
          },
          "colorscale": {
           "diverging": [
            [
             0,
             "#8e0152"
            ],
            [
             0.1,
             "#c51b7d"
            ],
            [
             0.2,
             "#de77ae"
            ],
            [
             0.3,
             "#f1b6da"
            ],
            [
             0.4,
             "#fde0ef"
            ],
            [
             0.5,
             "#f7f7f7"
            ],
            [
             0.6,
             "#e6f5d0"
            ],
            [
             0.7,
             "#b8e186"
            ],
            [
             0.8,
             "#7fbc41"
            ],
            [
             0.9,
             "#4d9221"
            ],
            [
             1,
             "#276419"
            ]
           ],
           "sequential": [
            [
             0,
             "#0d0887"
            ],
            [
             0.1111111111111111,
             "#46039f"
            ],
            [
             0.2222222222222222,
             "#7201a8"
            ],
            [
             0.3333333333333333,
             "#9c179e"
            ],
            [
             0.4444444444444444,
             "#bd3786"
            ],
            [
             0.5555555555555556,
             "#d8576b"
            ],
            [
             0.6666666666666666,
             "#ed7953"
            ],
            [
             0.7777777777777778,
             "#fb9f3a"
            ],
            [
             0.8888888888888888,
             "#fdca26"
            ],
            [
             1,
             "#f0f921"
            ]
           ],
           "sequentialminus": [
            [
             0,
             "#0d0887"
            ],
            [
             0.1111111111111111,
             "#46039f"
            ],
            [
             0.2222222222222222,
             "#7201a8"
            ],
            [
             0.3333333333333333,
             "#9c179e"
            ],
            [
             0.4444444444444444,
             "#bd3786"
            ],
            [
             0.5555555555555556,
             "#d8576b"
            ],
            [
             0.6666666666666666,
             "#ed7953"
            ],
            [
             0.7777777777777778,
             "#fb9f3a"
            ],
            [
             0.8888888888888888,
             "#fdca26"
            ],
            [
             1,
             "#f0f921"
            ]
           ]
          },
          "colorway": [
           "#636efa",
           "#EF553B",
           "#00cc96",
           "#ab63fa",
           "#FFA15A",
           "#19d3f3",
           "#FF6692",
           "#B6E880",
           "#FF97FF",
           "#FECB52"
          ],
          "font": {
           "color": "#2a3f5f"
          },
          "geo": {
           "bgcolor": "white",
           "lakecolor": "white",
           "landcolor": "#E5ECF6",
           "showlakes": true,
           "showland": true,
           "subunitcolor": "white"
          },
          "hoverlabel": {
           "align": "left"
          },
          "hovermode": "closest",
          "mapbox": {
           "style": "light"
          },
          "paper_bgcolor": "white",
          "plot_bgcolor": "#E5ECF6",
          "polar": {
           "angularaxis": {
            "gridcolor": "white",
            "linecolor": "white",
            "ticks": ""
           },
           "bgcolor": "#E5ECF6",
           "radialaxis": {
            "gridcolor": "white",
            "linecolor": "white",
            "ticks": ""
           }
          },
          "scene": {
           "xaxis": {
            "backgroundcolor": "#E5ECF6",
            "gridcolor": "white",
            "gridwidth": 2,
            "linecolor": "white",
            "showbackground": true,
            "ticks": "",
            "zerolinecolor": "white"
           },
           "yaxis": {
            "backgroundcolor": "#E5ECF6",
            "gridcolor": "white",
            "gridwidth": 2,
            "linecolor": "white",
            "showbackground": true,
            "ticks": "",
            "zerolinecolor": "white"
           },
           "zaxis": {
            "backgroundcolor": "#E5ECF6",
            "gridcolor": "white",
            "gridwidth": 2,
            "linecolor": "white",
            "showbackground": true,
            "ticks": "",
            "zerolinecolor": "white"
           }
          },
          "shapedefaults": {
           "line": {
            "color": "#2a3f5f"
           }
          },
          "ternary": {
           "aaxis": {
            "gridcolor": "white",
            "linecolor": "white",
            "ticks": ""
           },
           "baxis": {
            "gridcolor": "white",
            "linecolor": "white",
            "ticks": ""
           },
           "bgcolor": "#E5ECF6",
           "caxis": {
            "gridcolor": "white",
            "linecolor": "white",
            "ticks": ""
           }
          },
          "title": {
           "x": 0.05
          },
          "xaxis": {
           "automargin": true,
           "gridcolor": "white",
           "linecolor": "white",
           "ticks": "",
           "title": {
            "standoff": 15
           },
           "zerolinecolor": "white",
           "zerolinewidth": 2
          },
          "yaxis": {
           "automargin": true,
           "gridcolor": "white",
           "linecolor": "white",
           "ticks": "",
           "title": {
            "standoff": 15
           },
           "zerolinecolor": "white",
           "zerolinewidth": 2
          }
         }
        },
        "title": {
         "text": "Univariate histogram of carnitine_100g:"
        },
        "xaxis": {
         "anchor": "y",
         "autorange": true,
         "domain": [
          0,
          1
         ],
         "range": [
          -2.5,
          97.5
         ],
         "title": {
          "text": "value"
         },
         "type": "linear"
        },
        "yaxis": {
         "anchor": "x",
         "autorange": true,
         "domain": [
          0,
          1
         ],
         "range": [
          0,
          37.6371138170474
         ],
         "title": {
          "text": "percent"
         }
        }
       }
      },
      "image/png": "[encoded data removed]",
      "text/html": [
       "<div>                            <div id=\"805fe0e0-a124-4527-b935-e82599020fe9\" class=\"plotly-graph-div\" style=\"height:525px; width:100%;\"></div>            <script type=\"text/javascript\">                require([\"plotly\"], function(Plotly) {                    window.PLOTLYENV=window.PLOTLYENV || {};                                    if (document.getElementById(\"805fe0e0-a124-4527-b935-e82599020fe9\")) {                    Plotly.newPlot(                        \"805fe0e0-a124-4527-b935-e82599020fe9\",                        [{\"alignmentgroup\":\"True\",\"bingroup\":\"x\",\"histnorm\":\"percent\",\"hovertemplate\":\"variable=sugars_100g<br>value=%{x}<br>percent=%{y}<extra></extra>\",\"legendgroup\":\"sugars_100g\",\"marker\":{\"color\":\"#636efa\",\"pattern\":{\"shape\":\"\"}},\"name\":\"sugars_100g\",\"offsetgroup\":\"sugars_100g\",\"orientation\":\"v\",\"showlegend\":true,\"type\":\"histogram\",\"x\":[15.0,1.0,22.0,0.4,3.0,15.5,3.9,16.3,1.6,1.8,27.0,2.0,1.7,21.9,44.0,23.0,20.0,7.5,0.0,12.7,27.0,0.9,1.2,1.0,0.6,3.8,1.4,1.0,2.1,21.6,10.0,1.0,4.6,0.1,11.0,38.0,1.4,14.29,17.86,1.3,17.4,0.1,0.7,0.9,3.0,1.7,2.3,0.6,1.6,0.5,2.0,1.0,40.0,6.5,0.0,1.0,2.0,1.4,0.9,2.0,0.0,3.3,1.9,4.9,4.1,63.0,1.9,55.0,1.6,1.9,0.01,1.9,3.57,15.62,3.33,29.8,24.1,21.82,3.57,2.38,32.5,30.0,27.27,6.67,33.33,5.56,6.67,6.67,3.33,37.5,3.92,29.09,7.0,21.43,37.5,0.5,0.075,0.0,39.0,12.8,9.09,32.3,12.73,12.3,1.54,5.17,25.45,14.29,21.6,3.57,3.57,3.57,3.57,32.0,33.33,16.3,26.67,36.67,57.5,2.94,47.5,3.6,16.36,1.6,51.0,66.67,52.5,14.29,21.82,65.0,42.5,17.86,1.0,10.71,5.88,6.41,29.0,82.0,58.0,58.0,13.8,0.25,35.0,0.0,37.0,0.5,1.4,2.0,0.0,61.0,6.0,71.0,24.3,22.0,2.7,25.0,59.0,0.0,24.3,2.1,0.0,13.8,69.8,4.4,2.4,0.5,13.0,1.0,85.4,85.4,0.0,2.2,56.0,54.0,24.7,14.0,20.0,70.0,11.0,3.3,8.5,54.0,50.8,54.0,2.1,1.7,70.0,1.11,0.1,1.0,1.0,1.0,0.5,0.6,0.0,1.0,9.4,3.0,0.0,24.0,12.7,0.6,0.714,66.0,93.3,32.6,50.4,51.7,0.1,58.9,75.0,75.0,70.54,70.04,69.97,0.0,42.0,81.67,0.0,0.0,0.0,0.0,81.67,55.0,41.3,58.0,58.0,58.0,65.0,55.7,84.7,84.7,84.7,84.7,84.7,84.7,96.2,96.5,23.0,20.0,36.29,43.67,24.61,41.0,50.0,53.9,15.0,3.25,0.1,19.0,36.0,58.0,0.2,43.0,1.9,1.8,59.0,5.19,25.93,2.13,2.67,9.33,37.17,4.71,30.59,28.24,35.71,32.94,25.88,0.0,23.58,32.14,18.82,15.29,32.41,21.43,11.67,22.03,0.0,0.0,37.0,46.0,51.5,29.41,46.43,0.9,3.2,2.9,2.9,2.2,1.2,2.9,15.0,14.0,19.0,17.0,12.0,0.0,12.0,16.0,5.1,16.0,44.0,44.0,50.09,1.6,0.0,19.0,50.0,44.2,22.0,50.0,0.9,2.0,0.12,40.3,6.9,4.7,3.8,51.6,5.0,10.4,3.3,0.28,21.5,17.0,17.0,59.0,64.8,65.0,56.0,12.0,20.8,0.7,10.7,0.6,0.0,32.7,1.0,35.0,0.0,3.6,0.1,0.0,0.8,1.0,8.4,1.6,0.5,2.8,1.5,12.8,2.8,2.5,1.5,0.6,3.5,4.2,1.0,2.6,3.7,1.6,0.5,0.01,0.1,0.3,1.6,3.0,3.6,2.4,2.0,1.4,2.0,16.5,24.3,2.9,0.5,0.6,1.1,2.2,1.0,0.6,28.2,1.2,2.8,1.7,30.2,1.0,1.0,2.0,6.5,2.4,1.2,0.9,1.8,1.4,1.1,1.2,0.8,4.2,4.1,1.7,2.1,2.6,0.6,1.3,0.1,1.7,15.8,25.0,17.3,1.5,7.3,0.6,14.0,0.0,47.1,0.5,0.0,27.0,56.0,0.15,1.2,22.8,22.8,10.4,2.6,2.3,1.3,22.5,3.0,3.1,26.0,18.0,32.0,0.2,1.4,38.461538461538,38.400001525879,91.2,0.0,0.0,1.5,0.5,1.7,1.1,1.6,0.0,46.19,8.77,8.77,8.7,10.0,4.6511627906977,12.4,19.0,31.0,0.0,35.0,0.0,26.6,1.0,19.0,19.0,2.94,20.0,0.5,19.0,16.0,21.1,2.6,30.0,23.8,18.2,1.2,88.0,0.0,7.4,5.88,2.56,21.7,5.4,25.0,0.5,0.0,22.0,0.5,42.0,29.0,0.0,3.1,6.5,28.0,18.0,0.7,35.0,0.9,2.1,34.38,34.0,0.2,25.0,29.0,8.67,10.0,49.6,43.6,56.0,38.6,0.5,51.6,28.57,28.57,17.65,17.65,16.9,18.31,15.49,1.1,2.52,1.6,1.62,24.0],\"xaxis\":\"x\",\"yaxis\":\"y\"}],                        {\"barmode\":\"relative\",\"font\":{\"size\":10},\"legend\":{\"title\":{\"text\":\"variable\"},\"tracegroupgap\":0},\"margin\":{\"t\":60},\"showlegend\":false,\"template\":{\"data\":{\"bar\":[{\"error_x\":{\"color\":\"#2a3f5f\"},\"error_y\":{\"color\":\"#2a3f5f\"},\"marker\":{\"line\":{\"color\":\"#E5ECF6\",\"width\":0.5},\"pattern\":{\"fillmode\":\"overlay\",\"size\":10,\"solidity\":0.2}},\"type\":\"bar\"}],\"barpolar\":[{\"marker\":{\"line\":{\"color\":\"#E5ECF6\",\"width\":0.5},\"pattern\":{\"fillmode\":\"overlay\",\"size\":10,\"solidity\":0.2}},\"type\":\"barpolar\"}],\"carpet\":[{\"aaxis\":{\"endlinecolor\":\"#2a3f5f\",\"gridcolor\":\"white\",\"linecolor\":\"white\",\"minorgridcolor\":\"white\",\"startlinecolor\":\"#2a3f5f\"},\"baxis\":{\"endlinecolor\":\"#2a3f5f\",\"gridcolor\":\"white\",\"linecolor\":\"white\",\"minorgridcolor\":\"white\",\"startlinecolor\":\"#2a3f5f\"},\"type\":\"carpet\"}],\"choropleth\":[{\"colorbar\":{\"outlinewidth\":0,\"ticks\":\"\"},\"type\":\"choropleth\"}],\"contour\":[{\"colorbar\":{\"outlinewidth\":0,\"ticks\":\"\"},\"colorscale\":[[0.0,\"#0d0887\"],[0.1111111111111111,\"#46039f\"],[0.2222222222222222,\"#7201a8\"],[0.3333333333333333,\"#9c179e\"],[0.4444444444444444,\"#bd3786\"],[0.5555555555555556,\"#d8576b\"],[0.6666666666666666,\"#ed7953\"],[0.7777777777777778,\"#fb9f3a\"],[0.8888888888888888,\"#fdca26\"],[1.0,\"#f0f921\"]],\"type\":\"contour\"}],\"contourcarpet\":[{\"colorbar\":{\"outlinewidth\":0,\"ticks\":\"\"},\"type\":\"contourcarpet\"}],\"heatmap\":[{\"colorbar\":{\"outlinewidth\":0,\"ticks\":\"\"},\"colorscale\":[[0.0,\"#0d0887\"],[0.1111111111111111,\"#46039f\"],[0.2222222222222222,\"#7201a8\"],[0.3333333333333333,\"#9c179e\"],[0.4444444444444444,\"#bd3786\"],[0.5555555555555556,\"#d8576b\"],[0.6666666666666666,\"#ed7953\"],[0.7777777777777778,\"#fb9f3a\"],[0.8888888888888888,\"#fdca26\"],[1.0,\"#f0f921\"]],\"type\":\"heatmap\"}],\"heatmapgl\":[{\"colorbar\":{\"outlinewidth\":0,\"ticks\":\"\"},\"colorscale\":[[0.0,\"#0d0887\"],[0.1111111111111111,\"#46039f\"],[0.2222222222222222,\"#7201a8\"],[0.3333333333333333,\"#9c179e\"],[0.4444444444444444,\"#bd3786\"],[0.5555555555555556,\"#d8576b\"],[0.6666666666666666,\"#ed7953\"],[0.7777777777777778,\"#fb9f3a\"],[0.8888888888888888,\"#fdca26\"],[1.0,\"#f0f921\"]],\"type\":\"heatmapgl\"}],\"histogram\":[{\"marker\":{\"pattern\":{\"fillmode\":\"overlay\",\"size\":10,\"solidity\":0.2}},\"type\":\"histogram\"}],\"histogram2d\":[{\"colorbar\":{\"outlinewidth\":0,\"ticks\":\"\"},\"colorscale\":[[0.0,\"#0d0887\"],[0.1111111111111111,\"#46039f\"],[0.2222222222222222,\"#7201a8\"],[0.3333333333333333,\"#9c179e\"],[0.4444444444444444,\"#bd3786\"],[0.5555555555555556,\"#d8576b\"],[0.6666666666666666,\"#ed7953\"],[0.7777777777777778,\"#fb9f3a\"],[0.8888888888888888,\"#fdca26\"],[1.0,\"#f0f921\"]],\"type\":\"histogram2d\"}],\"histogram2dcontour\":[{\"colorbar\":{\"outlinewidth\":0,\"ticks\":\"\"},\"colorscale\":[[0.0,\"#0d0887\"],[0.1111111111111111,\"#46039f\"],[0.2222222222222222,\"#7201a8\"],[0.3333333333333333,\"#9c179e\"],[0.4444444444444444,\"#bd3786\"],[0.5555555555555556,\"#d8576b\"],[0.6666666666666666,\"#ed7953\"],[0.7777777777777778,\"#fb9f3a\"],[0.8888888888888888,\"#fdca26\"],[1.0,\"#f0f921\"]],\"type\":\"histogram2dcontour\"}],\"mesh3d\":[{\"colorbar\":{\"outlinewidth\":0,\"ticks\":\"\"},\"type\":\"mesh3d\"}],\"parcoords\":[{\"line\":{\"colorbar\":{\"outlinewidth\":0,\"ticks\":\"\"}},\"type\":\"parcoords\"}],\"pie\":[{\"automargin\":true,\"type\":\"pie\"}],\"scatter\":[{\"marker\":{\"colorbar\":{\"outlinewidth\":0,\"ticks\":\"\"}},\"type\":\"scatter\"}],\"scatter3d\":[{\"line\":{\"colorbar\":{\"outlinewidth\":0,\"ticks\":\"\"}},\"marker\":{\"colorbar\":{\"outlinewidth\":0,\"ticks\":\"\"}},\"type\":\"scatter3d\"}],\"scattercarpet\":[{\"marker\":{\"colorbar\":{\"outlinewidth\":0,\"ticks\":\"\"}},\"type\":\"scattercarpet\"}],\"scattergeo\":[{\"marker\":{\"colorbar\":{\"outlinewidth\":0,\"ticks\":\"\"}},\"type\":\"scattergeo\"}],\"scattergl\":[{\"marker\":{\"colorbar\":{\"outlinewidth\":0,\"ticks\":\"\"}},\"type\":\"scattergl\"}],\"scattermapbox\":[{\"marker\":{\"colorbar\":{\"outlinewidth\":0,\"ticks\":\"\"}},\"type\":\"scattermapbox\"}],\"scatterpolar\":[{\"marker\":{\"colorbar\":{\"outlinewidth\":0,\"ticks\":\"\"}},\"type\":\"scatterpolar\"}],\"scatterpolargl\":[{\"marker\":{\"colorbar\":{\"outlinewidth\":0,\"ticks\":\"\"}},\"type\":\"scatterpolargl\"}],\"scatterternary\":[{\"marker\":{\"colorbar\":{\"outlinewidth\":0,\"ticks\":\"\"}},\"type\":\"scatterternary\"}],\"surface\":[{\"colorbar\":{\"outlinewidth\":0,\"ticks\":\"\"},\"colorscale\":[[0.0,\"#0d0887\"],[0.1111111111111111,\"#46039f\"],[0.2222222222222222,\"#7201a8\"],[0.3333333333333333,\"#9c179e\"],[0.4444444444444444,\"#bd3786\"],[0.5555555555555556,\"#d8576b\"],[0.6666666666666666,\"#ed7953\"],[0.7777777777777778,\"#fb9f3a\"],[0.8888888888888888,\"#fdca26\"],[1.0,\"#f0f921\"]],\"type\":\"surface\"}],\"table\":[{\"cells\":{\"fill\":{\"color\":\"#EBF0F8\"},\"line\":{\"color\":\"white\"}},\"header\":{\"fill\":{\"color\":\"#C8D4E3\"},\"line\":{\"color\":\"white\"}},\"type\":\"table\"}]},\"layout\":{\"annotationdefaults\":{\"arrowcolor\":\"#2a3f5f\",\"arrowhead\":0,\"arrowwidth\":1},\"autotypenumbers\":\"strict\",\"coloraxis\":{\"colorbar\":{\"outlinewidth\":0,\"ticks\":\"\"}},\"colorscale\":{\"diverging\":[[0,\"#8e0152\"],[0.1,\"#c51b7d\"],[0.2,\"#de77ae\"],[0.3,\"#f1b6da\"],[0.4,\"#fde0ef\"],[0.5,\"#f7f7f7\"],[0.6,\"#e6f5d0\"],[0.7,\"#b8e186\"],[0.8,\"#7fbc41\"],[0.9,\"#4d9221\"],[1,\"#276419\"]],\"sequential\":[[0.0,\"#0d0887\"],[0.1111111111111111,\"#46039f\"],[0.2222222222222222,\"#7201a8\"],[0.3333333333333333,\"#9c179e\"],[0.4444444444444444,\"#bd3786\"],[0.5555555555555556,\"#d8576b\"],[0.6666666666666666,\"#ed7953\"],[0.7777777777777778,\"#fb9f3a\"],[0.8888888888888888,\"#fdca26\"],[1.0,\"#f0f921\"]],\"sequentialminus\":[[0.0,\"#0d0887\"],[0.1111111111111111,\"#46039f\"],[0.2222222222222222,\"#7201a8\"],[0.3333333333333333,\"#9c179e\"],[0.4444444444444444,\"#bd3786\"],[0.5555555555555556,\"#d8576b\"],[0.6666666666666666,\"#ed7953\"],[0.7777777777777778,\"#fb9f3a\"],[0.8888888888888888,\"#fdca26\"],[1.0,\"#f0f921\"]]},\"colorway\":[\"#636efa\",\"#EF553B\",\"#00cc96\",\"#ab63fa\",\"#FFA15A\",\"#19d3f3\",\"#FF6692\",\"#B6E880\",\"#FF97FF\",\"#FECB52\"],\"font\":{\"color\":\"#2a3f5f\"},\"geo\":{\"bgcolor\":\"white\",\"lakecolor\":\"white\",\"landcolor\":\"#E5ECF6\",\"showlakes\":true,\"showland\":true,\"subunitcolor\":\"white\"},\"hoverlabel\":{\"align\":\"left\"},\"hovermode\":\"closest\",\"mapbox\":{\"style\":\"light\"},\"paper_bgcolor\":\"white\",\"plot_bgcolor\":\"#E5ECF6\",\"polar\":{\"angularaxis\":{\"gridcolor\":\"white\",\"linecolor\":\"white\",\"ticks\":\"\"},\"bgcolor\":\"#E5ECF6\",\"radialaxis\":{\"gridcolor\":\"white\",\"linecolor\":\"white\",\"ticks\":\"\"}},\"scene\":{\"xaxis\":{\"backgroundcolor\":\"#E5ECF6\",\"gridcolor\":\"white\",\"gridwidth\":2,\"linecolor\":\"white\",\"showbackground\":true,\"ticks\":\"\",\"zerolinecolor\":\"white\"},\"yaxis\":{\"backgroundcolor\":\"#E5ECF6\",\"gridcolor\":\"white\",\"gridwidth\":2,\"linecolor\":\"white\",\"showbackground\":true,\"ticks\":\"\",\"zerolinecolor\":\"white\"},\"zaxis\":{\"backgroundcolor\":\"#E5ECF6\",\"gridcolor\":\"white\",\"gridwidth\":2,\"linecolor\":\"white\",\"showbackground\":true,\"ticks\":\"\",\"zerolinecolor\":\"white\"}},\"shapedefaults\":{\"line\":{\"color\":\"#2a3f5f\"}},\"ternary\":{\"aaxis\":{\"gridcolor\":\"white\",\"linecolor\":\"white\",\"ticks\":\"\"},\"baxis\":{\"gridcolor\":\"white\",\"linecolor\":\"white\",\"ticks\":\"\"},\"bgcolor\":\"#E5ECF6\",\"caxis\":{\"gridcolor\":\"white\",\"linecolor\":\"white\",\"ticks\":\"\"}},\"title\":{\"x\":0.05},\"xaxis\":{\"automargin\":true,\"gridcolor\":\"white\",\"linecolor\":\"white\",\"ticks\":\"\",\"title\":{\"standoff\":15},\"zerolinecolor\":\"white\",\"zerolinewidth\":2},\"yaxis\":{\"automargin\":true,\"gridcolor\":\"white\",\"linecolor\":\"white\",\"ticks\":\"\",\"title\":{\"standoff\":15},\"zerolinecolor\":\"white\",\"zerolinewidth\":2}}},\"title\":{\"text\":\"Univariate histogram of carnitine_100g:\"},\"xaxis\":{\"anchor\":\"y\",\"domain\":[0.0,1.0],\"title\":{\"text\":\"value\"}},\"yaxis\":{\"anchor\":\"x\",\"domain\":[0.0,1.0],\"title\":{\"text\":\"percent\"}}},                        {\"responsive\": true}                    ).then(function(){\n",
       "                            \n",
       "var gd = document.getElementById('805fe0e0-a124-4527-b935-e82599020fe9');\n",
       "var x = new MutationObserver(function (mutations, observer) {{\n",
       "        var display = window.getComputedStyle(gd).display;\n",
       "        if (!display || display === 'none') {{\n",
       "            console.log([gd, 'removed!']);\n",
       "            Plotly.purge(gd);\n",
       "            observer.disconnect();\n",
       "        }}\n",
       "}});\n",
       "\n",
       "// Listen for the removal of the full notebook cells\n",
       "var notebookContainer = gd.closest('#notebook-container');\n",
       "if (notebookContainer) {{\n",
       "    x.observe(notebookContainer, {childList: true});\n",
       "}}\n",
       "\n",
       "// Listen for the clearing of the current output cell\n",
       "var outputEl = gd.closest('.output');\n",
       "if (outputEl) {{\n",
       "    x.observe(outputEl, {childList: true});\n",
       "}}\n",
       "\n",
       "                        })                };                });            </script>        </div>"
      ]
     },
     "metadata": {},
     "output_type": "display_data"
    }
   ],
   "source": [
    "print('⬆️ this made that ⬇️\\n')\n",
    "\n",
    "fig = px.histogram(df[['sugars_100g']], histnorm='percent')\n",
    "fig.layout.showlegend = False\n",
    "fig.update_layout(\n",
    "    title=f'Univariate histogram of {x}:',\n",
    "    font=dict(\n",
    "        size=10\n",
    "    ))"
   ]
  }
 ],
 "metadata": {
  "kernelspec": {
   "display_name": "Python 3",
   "language": "python",
   "name": "python3"
  },
  "language_info": {
   "codemirror_mode": {
    "name": "ipython",
    "version": 3
   },
   "file_extension": ".py",
   "mimetype": "text/x-python",
   "name": "python",
   "nbconvert_exporter": "python",
   "pygments_lexer": "ipython3",
   "version": "3.8.8"
  },
  "widgets": {
   "application/vnd.jupyter.widget-state+json": {
    "state": {},
    "version_major": 2,
    "version_minor": 0
   }
  }
 },
 "nbformat": 4,
 "nbformat_minor": 5
}
