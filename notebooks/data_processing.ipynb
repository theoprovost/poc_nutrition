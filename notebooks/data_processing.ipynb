{
 "cells": [
  {
   "cell_type": "markdown",
   "id": "ae816430-df60-4ed0-99f6-e26109fc9f2f",
   "metadata": {},
   "source": [
    "### PoC Nutrition data processing :\n",
    "\n",
    "**Table of content :** <br>\n",
    "[🎥 Data handling approach](#approach)  <br>\n",
    "&nbsp;&nbsp;&nbsp;&nbsp;&nbsp;&nbsp; [1️⃣ | Data_Processor](#dp)  <br>\n",
    "&nbsp;&nbsp;&nbsp;&nbsp;&nbsp;&nbsp; [2️⃣ | DB_Interface](#dbi)  <br>\n"
   ]
  },
  {
   "cell_type": "markdown",
   "id": "1e1e262d-5ca4-4311-91b2-ddfc39cfa4aa",
   "metadata": {},
   "source": [
    "> ***Nota Bene*** <br>\n",
    "> This notebook sums up the python script located at `./scripts/handle_data.py`. The goal of thoses classes are to handle the data processing with a set of predifined rules. Some of them are customizable/needs to be given by the user. This'll be discuss later."
   ]
  },
  {
   "cell_type": "markdown",
   "id": "52c35761-838b-43b8-88fc-85204c9fc075",
   "metadata": {},
   "source": [
    "-----\n",
    "#### 🎥 Data handling approach <a name='approach'></a>"
   ]
  },
  {
   "cell_type": "markdown",
   "id": "c5ef3318-2ec6-4899-8a13-41b9d5a75eef",
   "metadata": {},
   "source": [
    "As is, the data processing approach includes :\n",
    "- Drop data that do not have filled-out mandatory (in France) nutritional informations (`fat_100g`, `saturated-fat_100g`, `carbohydrates_100g`, `sugars_100g`, `proteins_100g`, `salt_100g` and `energy_*`)\n",
    "- Drop abnormal values for those features (for x expressed per 100g, x ∈ [0, 100])\n",
    "- Drop duplicates values based on their unique `code`\n",
    "- Drop values where `code` do not respect EAN-13 format\n",
    "\n",
    "What it could integrate in a near future :\n",
    "- Drop items that are not sold in France <br>\n",
    "[...]\n",
    "\n",
    "A behavior could be easily added via `action` in the `params.json` file."
   ]
  },
  {
   "cell_type": "markdown",
   "id": "3d64268c-e1ab-4946-aefd-b52a098dafc4",
   "metadata": {},
   "source": [
    "------\n",
    "#### 1️⃣ | Data_Processor <a name='dp'></a>"
   ]
  },
  {
   "cell_type": "markdown",
   "id": "639673ff-1a82-4402-a294-59f627880d94",
   "metadata": {},
   "source": [
    "This class contains a bunch of methods that interact with the data. It provides a customizable API and needs to be provided a `.json` file to get define it's data handling behavior. <br>\n",
    "It also contains a dependant class, named `SQL`, responsible for the writing of SQL scripts (create a db, create a table, seed the database) accordingly to the df.\n",
    "\n",
    "```python\n",
    "# Instantiate Data_Processor\n",
    "json_file_path = './path_to_file.json'\n",
    "with open(json_file_path, 'r') as f:\n",
    "    params = json.loads(f.read())\n",
    "\n",
    "processor = Data_Processor(params)\n",
    "```"
   ]
  },
  {
   "cell_type": "markdown",
   "id": "5144407a-a37b-46d4-96e2-2dbe148264b9",
   "metadata": {},
   "source": [
    "#### 🔧 | Methods <a name='methods_dp'></a>"
   ]
  },
  {
   "cell_type": "markdown",
   "id": "33dc6e33-ac50-4f34-9b0d-a00df276e1b5",
   "metadata": {},
   "source": [
    "|Method name|Description|\n",
    "|:--:|:--|\n",
    "|`process()`|Launch the data processing|\n",
    "|`handle_data()`|Function that orient the data handling for each case|\n",
    "|`drop_missing()`|Data processing for case : drop missing|\n",
    "|`drop_abnormal()`|Data processing for case : drop abnormal|\n",
    "|`store_df()`|Stores the newly worked df|\n",
    "|`SQL.generate_createdb_script()`|Generate a create database file|\n",
    "|`SQL.generate_table_script()`|Generate a create table file|\n",
    "|`SQL.generate_seed_script()`|Generate a seed file|\n",
    "|`SQL.handle_SQL_gen()`|Supervize SQL scripts generation|"
   ]
  },
  {
   "cell_type": "markdown",
   "id": "827b9949-fbb7-4ccb-8c5f-7194309b9eb5",
   "metadata": {},
   "source": [
    "------\n",
    "#### 2️⃣ | DB_Interface() <a name='dbi'></a>"
   ]
  },
  {
   "cell_type": "markdown",
   "id": "5275c2c1-c642-4bd7-9207-e3e107251d98",
   "metadata": {},
   "source": [
    "Connection interface to communicate and perform action on the DB specified in the credentials/params."
   ]
  },
  {
   "cell_type": "markdown",
   "id": "94019529-b06e-4f32-b231-9bcddea33e0d",
   "metadata": {},
   "source": [
    "#### 🔧 | Methods <a name='methods_dbi'></a>\n",
    "\n",
    "|Method name|Description|\n",
    "|:--:|:--|\n",
    "|`connect()`|Database connection method|\n",
    "|`execute_createdb()`|Execute create database script|\n",
    "|`execute_create_table()`|Execute create table script|\n",
    "|`execute_seed()`|Execute database seeding script|\n",
    "|`handle_SQL_exec()`|Supervize script execution|"
   ]
  }
 ],
 "metadata": {
  "kernelspec": {
   "display_name": "Python 3",
   "language": "python",
   "name": "python3"
  },
  "language_info": {
   "codemirror_mode": {
    "name": "ipython",
    "version": 3
   },
   "file_extension": ".py",
   "mimetype": "text/x-python",
   "name": "python",
   "nbconvert_exporter": "python",
   "pygments_lexer": "ipython3",
   "version": "3.8.8"
  },
  "widgets": {
   "application/vnd.jupyter.widget-state+json": {
    "state": {},
    "version_major": 2,
    "version_minor": 0
   }
  }
 },
 "nbformat": 4,
 "nbformat_minor": 5
}
