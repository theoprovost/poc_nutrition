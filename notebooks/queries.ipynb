{
 "cells": [
  {
   "cell_type": "markdown",
   "id": "4582a352-0c36-4ee4-b207-19782ed3e75a",
   "metadata": {},
   "source": [
    "### PoC Nutrition asked queries :"
   ]
  },
  {
   "cell_type": "markdown",
   "id": "a3ad598a-44f1-40f9-8ad7-10bfdfb41148",
   "metadata": {},
   "source": [
    "**Table of content :** <br>\n",
    "[1️⃣ | Nombre de produits par nutriscore. Quel est le pourcentage de représentation associé?](#1) <br>\n",
    "[2️⃣ | Les 4 valeurs possibles du Nova_Group](#2) <br>\n",
    "[3️⃣ | Quel est la moyenne des fibres par nutriscore ?](#3) <br>\n",
    "[4️⃣ | Quels sont le TOP10 des pnns_groups_2 qui comportent le plus d'additifs](#4) <br>\n",
    "[5️⃣ | Afficher le taux de sucre/fat moyen et médian des produits avec un nutriscore A ou B](#5) <br>\n",
    "[6️⃣ | Combien avons-nous de produits qui ont un taux de carbohydrates > aux sucres](#6) <br>"
   ]
  },
  {
   "cell_type": "code",
   "execution_count": 35,
   "id": "545d8fc7-a9a5-4eb8-8a2b-9544c458664b",
   "metadata": {
    "jupyter": {
     "source_hidden": true
    },
    "tags": []
   },
   "outputs": [
    {
     "name": "stdout",
     "output_type": "stream",
     "text": [
      "⬆️ This contains imports & pg connector.\n"
     ]
    }
   ],
   "source": [
    "import psycopg2 as pgconn\n",
    "import pandas as pd\n",
    "\n",
    "print('⬆️ This contains imports & pg connector.')\n",
    "\n",
    "# Init db connection and open cursor\n",
    "def db_connect(cred):\n",
    "    return pgconn.connect(\n",
    "                host=cred['host'],\n",
    "                database=cred['database'],\n",
    "                user=cred['user'],\n",
    "                password=cred['password']\n",
    "            )\n",
    "\n",
    "credentials = {\n",
    "            'host': 'localhost',\n",
    "            'database': 'open_food_data_db',\n",
    "            'user': 'postgres',\n",
    "            'password': ''\n",
    "        }\n",
    "\n",
    "conn = db_connect(credentials)\n",
    "cur = conn.cursor()"
   ]
  },
  {
   "cell_type": "markdown",
   "id": "85259117-d626-4b28-8617-cb66c13ff6eb",
   "metadata": {},
   "source": [
    "> ***Nota Bene*** <br>\n",
    "> Les résultats obtenus ne sont pas sur l'ensemble des données. <br>\n",
    "> Les queries ont été rédigées dans une syntaxe compatible à postgres."
   ]
  },
  {
   "cell_type": "markdown",
   "id": "83e6e7d3-6361-416e-8de2-016777de56ee",
   "metadata": {},
   "source": [
    "-----\n",
    "#### 1️⃣ | Nombre de produits par nutriscore. Quel est le pourcentage de représentation associé? <a name=1></a>"
   ]
  },
  {
   "cell_type": "markdown",
   "id": "5dce6e6b-10c5-49b8-b526-2e634127a5e2",
   "metadata": {},
   "source": [
    "```sql\n",
    "SELECT\n",
    "  nutriscore_score,\n",
    "  cnt,\n",
    "  ROUND(100.0 * (( cnt) / (sum(cnt) OVER ())), 2) AS percentage\n",
    "FROM (\n",
    "\tSELECT nutriscore_score, \n",
    "\tcount(*) AS cnt\n",
    "\tFROM records\n",
    "\tWHERE nutriscore_score::FLOAT IS NOT NULL \n",
    "\tGROUP BY nutriscore_score\n",
    "\tORDER BY cnt DESC\n",
    ") x;\n",
    "```"
   ]
  },
  {
   "cell_type": "code",
   "execution_count": 32,
   "id": "29f6d454-b1d2-4c14-a871-34b8618d48ae",
   "metadata": {
    "jupyter": {
     "source_hidden": true
    },
    "tags": []
   },
   "outputs": [
    {
     "name": "stdout",
     "output_type": "stream",
     "text": [
      "\n",
      "Nombre de produits par nutriscore et % associés : \n",
      "\n",
      "nutriscore_score  n count    %\n",
      "            13.0       26 8.50\n",
      "            11.0       22 7.19\n",
      "             2.0       20 6.54\n",
      "            17.0       18 5.88\n",
      "             3.0       18 5.88\n",
      "            14.0       16 5.23\n",
      "             1.0       16 5.23\n",
      "             0.0       14 4.58\n",
      "            16.0       14 4.58\n",
      "            12.0       14 4.58\n",
      "             5.0       14 4.58\n",
      "             6.0       14 4.58\n",
      "            20.0       12 3.92\n",
      "            21.0       10 3.27\n",
      "            18.0        8 2.61\n",
      "            19.0        8 2.61\n",
      "            15.0        8 2.61\n",
      "            -2.0        6 1.96\n",
      "             4.0        6 1.96\n",
      "            23.0        4 1.31\n",
      "            22.0        4 1.31\n",
      "            26.0        4 1.31\n",
      "             9.0        4 1.31\n",
      "            25.0        4 1.31\n",
      "             8.0        2 0.65\n",
      "            10.0        2 0.65\n",
      "            28.0        2 0.65\n",
      "            -5.0        2 0.65\n",
      "            29.0        2 0.65\n",
      "            27.0        2 0.65\n",
      "            36.0        2 0.65\n",
      "            24.0        2 0.65\n",
      "             7.0        2 0.65\n",
      "            -4.0        2 0.65\n",
      "            -3.0        2 0.65\n"
     ]
    }
   ],
   "source": [
    "cur.execute('SELECT nutriscore_score, cnt, ROUND(100.0 * (( cnt) / (sum(cnt) OVER ())), 2) AS percentage FROM ( SELECT nutriscore_score,  count(*) AS cnt FROM records WHERE nutriscore_score::FLOAT IS NOT NULL  GROUP BY nutriscore_score ORDER BY cnt DESC ) x;')\n",
    "res = cur.fetchall()\n",
    "\n",
    "print('\\nNombre de produits par nutriscore et % associés : \\n')\n",
    "df = pd.DataFrame(res, columns=['nutriscore_score', 'n count', '%'])\n",
    "print(df.to_string(index=False))"
   ]
  },
  {
   "cell_type": "markdown",
   "id": "b497e550-06db-4778-8e9a-0f5a9ebea4f6",
   "metadata": {},
   "source": [
    "-------\n",
    "#### 2️⃣ | Les 4 valeurs possibles du Nova_Group <a name=2></a>"
   ]
  },
  {
   "cell_type": "markdown",
   "id": "19945620-4afc-4540-af43-f25dadee9ca8",
   "metadata": {},
   "source": [
    "```sql\n",
    "SELECT DISTINCT(nova_group) FROM records ORDER BY nova_group DESC;\n",
    "```"
   ]
  },
  {
   "cell_type": "code",
   "execution_count": 42,
   "id": "6c8e87b3-93fe-41e9-9c63-3cdf432163df",
   "metadata": {
    "jupyter": {
     "source_hidden": true
    },
    "tags": []
   },
   "outputs": [
    {
     "name": "stdout",
     "output_type": "stream",
     "text": [
      "\n",
      "Les 4 valeurs possibles du `nova_group` :\n",
      "\n",
      "Nova group values\n",
      "             None\n",
      "              4.0\n",
      "              3.0\n",
      "              2.0\n",
      "              1.0\n"
     ]
    }
   ],
   "source": [
    "cur.execute('SELECT DISTINCT(nova_group) FROM records ORDER BY nova_group DESC;')\n",
    "res = cur.fetchall()\n",
    "\n",
    "print('\\nLes 4 valeurs possibles du `nova_group` :\\n')\n",
    "df = pd.DataFrame(res, columns=['Nova group values'])\n",
    "print(df.to_string(index=False))"
   ]
  },
  {
   "cell_type": "markdown",
   "id": "f2a8fadc-8e04-4cc0-a5f5-ffe60a0a9b7a",
   "metadata": {},
   "source": [
    "---------\n",
    "#### 3️⃣ | Quel est la moyenne des fibres par nutriscore ? <a name=3></a>"
   ]
  },
  {
   "cell_type": "markdown",
   "id": "ace3b6cc-f325-445f-a4f9-8fe3d25ee421",
   "metadata": {
    "tags": []
   },
   "source": [
    "```sql\n",
    "SELECT\n",
    "\tnutriscore_score,\n",
    "\tAVG(fiber_100g::FLOAT) as avg_fiber_per_100g\n",
    "FROM records\n",
    "WHERE nutriscore_score::FLOAT IS NOT NULL \n",
    "GROUP BY nutriscore_score\n",
    "ORDER BY avg_fiber_per_100g DESC\n",
    "```"
   ]
  },
  {
   "cell_type": "code",
   "execution_count": 17,
   "id": "79a68c41-da87-48e6-8a65-4eb934adec5d",
   "metadata": {
    "jupyter": {
     "source_hidden": true
    },
    "tags": []
   },
   "outputs": [
    {
     "name": "stdout",
     "output_type": "stream",
     "text": [
      "\n",
      "Moyenne des fibres par nutriscore :\n",
      "\n",
      "Nutriscore  Fibre pour 100g\n",
      "      -2.0         1.800000\n",
      "      -3.0              NaN\n",
      "      -4.0         1.600000\n",
      "      -5.0              NaN\n",
      "       0.0         1.750000\n",
      "       1.0         0.900000\n",
      "      10.0         3.500000\n",
      "      11.0         2.514125\n",
      "      12.0         1.280000\n",
      "      13.0         2.100000\n",
      "      14.0         1.966667\n",
      "      15.0              NaN\n",
      "      16.0         1.000000\n",
      "      17.0         2.400000\n",
      "      18.0         0.800000\n",
      "      19.0         1.900000\n",
      "       2.0         1.119250\n",
      "      20.0         0.000000\n",
      "      21.0              NaN\n",
      "      22.0              NaN\n",
      "      23.0         1.300000\n",
      "      24.0              NaN\n",
      "      25.0         1.550000\n",
      "      26.0              NaN\n",
      "      27.0              NaN\n",
      "      28.0              NaN\n",
      "      29.0              NaN\n",
      "       3.0         3.650000\n",
      "      36.0         0.000000\n",
      "       4.0              NaN\n",
      "       5.0         1.350000\n",
      "       6.0         4.500000\n",
      "       7.0              NaN\n",
      "       8.0              NaN\n",
      "       9.0         2.000000\n"
     ]
    }
   ],
   "source": [
    "cur.execute('SELECT nutriscore_score, AVG(fiber_100g::FLOAT) as avg_fiber_per_100g FROM records WHERE nutriscore_score::FLOAT IS NOT NULL GROUP BY nutriscore_score ORDER BY avg_fiber_per_100g DESC')\n",
    "res = cur.fetchall()\n",
    "\n",
    "print('\\nMoyenne des fibres par nutriscore :\\n')\n",
    "df = pd.DataFrame(res, columns=['Nutriscore', 'Fibre pour 100g']).sort_values(by='Nutriscore')\n",
    "print(df.to_string(index=False))"
   ]
  },
  {
   "cell_type": "markdown",
   "id": "a7fb4317-90f6-4250-b7d5-9c2b13c79434",
   "metadata": {},
   "source": [
    "-----\n",
    "#### 4️⃣ | Quels sont le TOP10 des pnns_groups_2 qui comportent le plus d'additifs <a name='4'></a>"
   ]
  },
  {
   "cell_type": "markdown",
   "id": "0ea17ecc-db10-4658-a924-168a44daeb97",
   "metadata": {},
   "source": [
    "```sql\n",
    "SELECT\n",
    "\tpnns_groups_2,\n",
    "\tAVG(additives_n::FLOAT) as additives_n\n",
    "FROM records\n",
    "GROUP BY pnns_groups_2\n",
    "ORDER BY additives_n DESC\n",
    "LIMIT 10;\n",
    "```"
   ]
  },
  {
   "cell_type": "code",
   "execution_count": 16,
   "id": "672d9e28-11d6-4048-85d4-28680d5a335c",
   "metadata": {
    "jupyter": {
     "source_hidden": true
    },
    "tags": []
   },
   "outputs": [
    {
     "name": "stdout",
     "output_type": "stream",
     "text": [
      "\n",
      "Quels sont le TOP10 des pnns_groups_2 qui comportent le plus d'additifs\n",
      "\n",
      "          pnns_group_2  N additifs\n",
      "          Fruit juices         NaN\n",
      "                  Nuts         NaN\n",
      "                  Meat         NaN\n",
      "        Processed meat         NaN\n",
      "Pizza pies and quiches    8.000000\n",
      "        Dairy desserts    4.000000\n",
      "            Appetizers    4.000000\n",
      "    Biscuits and cakes    3.785714\n",
      "                  Fats    3.500000\n",
      "                Sweets    3.111111\n"
     ]
    }
   ],
   "source": [
    "cur.execute('SELECT pnns_groups_2, AVG(additives_n::FLOAT) as additives_n FROM records GROUP BY pnns_groups_2 ORDER BY additives_n DESC LIMIT 10;')\n",
    "res = cur.fetchall()\n",
    "\n",
    "print('\\nQuels sont le TOP10 des pnns_groups_2 qui comportent le plus d\\'additifs\\n')\n",
    "df = pd.DataFrame(res, columns=['pnns_group_2', 'N additifs'])\n",
    "print(df.to_string(index=False))"
   ]
  },
  {
   "cell_type": "markdown",
   "id": "b3777f26-e6af-4f0d-a178-a1874776a13a",
   "metadata": {},
   "source": [
    "------\n",
    "#### 5️⃣ | Afficher le taux de sucre/fat moyen et médian des produits avec un nutriscore A ou B <a name=5></a>"
   ]
  },
  {
   "cell_type": "markdown",
   "id": "3d9b03a6-bf34-45e6-b4e4-991c6a52ca84",
   "metadata": {},
   "source": [
    "```sql\n",
    "SELECT\n",
    "    nutriscore_grade,\n",
    "\tAVG(sugars_100g::FLOAT) avg_sugar,\n",
    "\tAVG(fat_100g::FLOAT) avg_fat,\n",
    "\t(SELECT percentile_disc(0.5) WITHIN GROUP (order by records.sugars_100g) FROM records) as med_sugar,\n",
    "\t(SELECT percentile_disc(0.5) WITHIN GROUP (order by records.fat_100g) FROM records) as med_fat\n",
    "FROM records\n",
    "WHERE nutriscore_grade = 'a' OR nutriscore_grade = 'b'\n",
    "GROUP BY nutriscore_grade\n",
    "```"
   ]
  },
  {
   "cell_type": "code",
   "execution_count": 15,
   "id": "81e25609-aec5-4d26-96cc-46d6321a38b0",
   "metadata": {
    "jupyter": {
     "source_hidden": true
    },
    "tags": []
   },
   "outputs": [
    {
     "name": "stdout",
     "output_type": "stream",
     "text": [
      "\n",
      "Taux moyen/medin de sucre/fat pour les produits avec un nutriscore A ou B\n",
      "\n",
      "nutriscore  avg surgar  avg fat med sugar med fat\n",
      "         a    6.018333 4.183333       2.7    22.3\n",
      "         b    8.386417 5.984583       2.7    22.3\n"
     ]
    }
   ],
   "source": [
    "cur.execute('SELECT nutriscore_grade, AVG(sugars_100g::FLOAT) avg_sugar, AVG(fat_100g::FLOAT) avg_fat, (SELECT percentile_disc(0.5) WITHIN GROUP (order by records.sugars_100g) FROM records) as med_sugar, (SELECT percentile_disc(0.5) WITHIN GROUP (order by records.fat_100g) FROM records) as med_fat FROM records WHERE nutriscore_grade = \\'a\\' OR nutriscore_grade = \\'b\\' GROUP BY nutriscore_grade')\n",
    "res = cur.fetchall()\n",
    "\n",
    "print('\\nTaux moyen/medin de sucre/fat pour les produits avec un nutriscore A ou B\\n')\n",
    "df = pd.DataFrame(res, columns=['nutriscore', 'avg surgar', 'avg fat', 'med sugar', 'med fat'])\n",
    "print(df.to_string(index=False))"
   ]
  },
  {
   "cell_type": "markdown",
   "id": "cad90690-11ff-4206-b237-48041523b788",
   "metadata": {},
   "source": [
    "----\n",
    "#### 6️⃣ | Combien avons-nous de produits qui ont un taux de carbohydrates > aux sucres <a name=6></a>"
   ]
  },
  {
   "cell_type": "markdown",
   "id": "befc4ffa-72dc-49af-a26f-a206d72319e9",
   "metadata": {
    "tags": []
   },
   "source": [
    "```sql\n",
    "SELECT\n",
    "\tCOUNT(DISTINCT(code))\n",
    "FROM records\n",
    "WHERE carbohydrates_100g::FLOAT > sugars_100g::FLOAT\n",
    "````"
   ]
  },
  {
   "cell_type": "code",
   "execution_count": 25,
   "id": "dfd7adde-44e6-41cc-ba45-51446cb37c2c",
   "metadata": {
    "jupyter": {
     "source_hidden": true
    },
    "tags": []
   },
   "outputs": [
    {
     "name": "stdout",
     "output_type": "stream",
     "text": [
      "\n",
      "Nombre de produits ou le taux de carbohydrates > sucres : 457\n",
      "\n"
     ]
    }
   ],
   "source": [
    "cur.execute('SELECT COUNT(DISTINCT(code)) FROM records WHERE carbohydrates_100g::FLOAT > sugars_100g::FLOAT')\n",
    "res = cur.fetchall()\n",
    "\n",
    "print(f'\\nNombre de produits ou le taux de carbohydrates > sucres : {res[0][0]}\\n')"
   ]
  }
 ],
 "metadata": {
  "kernelspec": {
   "display_name": "Python 3",
   "language": "python",
   "name": "python3"
  },
  "language_info": {
   "codemirror_mode": {
    "name": "ipython",
    "version": 3
   },
   "file_extension": ".py",
   "mimetype": "text/x-python",
   "name": "python",
   "nbconvert_exporter": "python",
   "pygments_lexer": "ipython3",
   "version": "3.8.8"
  },
  "widgets": {
   "application/vnd.jupyter.widget-state+json": {
    "state": {},
    "version_major": 2,
    "version_minor": 0
   }
  }
 },
 "nbformat": 4,
 "nbformat_minor": 5
}
