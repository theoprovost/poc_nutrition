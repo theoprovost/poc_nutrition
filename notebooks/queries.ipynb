{
 "cells": [
  {
   "cell_type": "markdown",
   "id": "4582a352-0c36-4ee4-b207-19782ed3e75a",
   "metadata": {},
   "source": [
    "### PoC Nutrition asked queries :"
   ]
  },
  {
   "cell_type": "markdown",
   "id": "a3ad598a-44f1-40f9-8ad7-10bfdfb41148",
   "metadata": {},
   "source": [
    "**Table of content :** <br>\n",
    "[1️⃣ | Nombre de produits par nutriscore. Quel est le pourcentage de représentation associé?](#1) <br>\n",
    "[2️⃣ | Les 4 valeurs possibles du Nova_Group](#2) <br>\n",
    "[3️⃣ | Quel est la moyenne des fibres par nutriscore ?](#3) <br>\n",
    "[4️⃣ | Quels sont le TOP10 des pnns_groups_2 qui comportent le plus d'additifs](#4) <br>\n",
    "[5️⃣ | Afficher le taux de sucre/fat moyen et médian des produits avec un nutriscore A ou B](#5) <br>\n",
    "[6️⃣ | Combien avons-nous de produits qui ont un taux de carbohydrates > aux sucres](#6) <br>"
   ]
  },
  {
   "cell_type": "code",
   "execution_count": 1,
   "id": "545d8fc7-a9a5-4eb8-8a2b-9544c458664b",
   "metadata": {
    "jupyter": {
     "source_hidden": true
    },
    "tags": []
   },
   "outputs": [
    {
     "name": "stdout",
     "output_type": "stream",
     "text": [
      "⬆️ This contains imports & pg connector.\n"
     ]
    }
   ],
   "source": [
    "import psycopg2 as pgconn\n",
    "import pandas as pd\n",
    "\n",
    "print('⬆️ This contains imports & pg connector.')\n",
    "\n",
    "# Init db connection and open cursor\n",
    "def db_connect(cred):\n",
    "    return pgconn.connect(\n",
    "                host=cred['host'],\n",
    "                database=cred['database'],\n",
    "                user=cred['user'],\n",
    "                password=cred['password']\n",
    "            )\n",
    "\n",
    "credentials = {\n",
    "            'host': 'localhost',\n",
    "            'database': 'open_food_data_db',\n",
    "            'user': 'postgres',\n",
    "            'password': ''\n",
    "        }\n",
    "\n",
    "conn = db_connect(credentials)\n",
    "cur = conn.cursor()"
   ]
  },
  {
   "cell_type": "markdown",
   "id": "85259117-d626-4b28-8617-cb66c13ff6eb",
   "metadata": {},
   "source": [
    "> ***Nota Bene*** <br>\n",
    "> Les résultats obtenus ne sont pas sur l'ensemble des données. <br>\n",
    "> Les queries ont été rédigées dans une syntaxe compatible à postgres."
   ]
  },
  {
   "cell_type": "markdown",
   "id": "83e6e7d3-6361-416e-8de2-016777de56ee",
   "metadata": {},
   "source": [
    "-----\n",
    "#### 1️⃣ | Nombre de produits par nutriscore. Quel est le pourcentage de représentation associé? <a name=1></a>"
   ]
  },
  {
   "cell_type": "markdown",
   "id": "5dce6e6b-10c5-49b8-b526-2e634127a5e2",
   "metadata": {},
   "source": [
    "```sql\n",
    "SELECT\n",
    "  nutriscore_score,\n",
    "  cnt,\n",
    "  ROUND(100.0 * (( cnt) / (sum(cnt) OVER ())), 2) AS percentage\n",
    "FROM (\n",
    "\tSELECT nutriscore_score, \n",
    "\tcount(*) AS cnt\n",
    "\tFROM records\n",
    "\tWHERE nutriscore_score::FLOAT IS NOT NULL \n",
    "\tGROUP BY nutriscore_score\n",
    "\tORDER BY cnt DESC\n",
    ") x;\n",
    "```"
   ]
  },
  {
   "cell_type": "code",
   "execution_count": 2,
   "id": "29f6d454-b1d2-4c14-a871-34b8618d48ae",
   "metadata": {
    "jupyter": {
     "source_hidden": true
    },
    "tags": []
   },
   "outputs": [
    {
     "name": "stdout",
     "output_type": "stream",
     "text": [
      "\n",
      "Nombre de produits par nutriscore et % associés : \n",
      "\n",
      "nutriscore_score  n count    %\n",
      "            14.0    14001 5.49\n",
      "             0.0    11793 4.63\n",
      "            13.0    11360 4.46\n",
      "            16.0    11312 4.44\n",
      "            15.0    10997 4.31\n",
      "            11.0    10963 4.30\n",
      "            12.0    10651 4.18\n",
      "             2.0     9585 3.76\n",
      "             1.0     9145 3.59\n",
      "            -1.0     9070 3.56\n",
      "            -4.0     8982 3.52\n",
      "             3.0     8592 3.37\n",
      "            10.0     8148 3.20\n",
      "            17.0     7890 3.10\n",
      "            -2.0     7556 2.96\n",
      "            19.0     7382 2.90\n",
      "             4.0     7352 2.88\n",
      "            18.0     7136 2.80\n",
      "            -3.0     6742 2.65\n",
      "            20.0     6630 2.60\n",
      "             5.0     6461 2.53\n",
      "             9.0     5889 2.31\n",
      "             6.0     5302 2.08\n",
      "            21.0     5264 2.07\n",
      "             8.0     5233 2.05\n",
      "            24.0     4895 1.92\n",
      "            23.0     4733 1.86\n",
      "            -5.0     4659 1.83\n",
      "             7.0     4642 1.82\n",
      "            22.0     4482 1.76\n",
      "            -6.0     4134 1.62\n",
      "            25.0     3178 1.25\n",
      "            26.0     2506 0.98\n",
      "            -7.0     2194 0.86\n",
      "            27.0     1642 0.64\n",
      "            -8.0     1518 0.60\n",
      "            28.0      672 0.26\n",
      "            -9.0      652 0.26\n",
      "           -10.0      486 0.19\n",
      "            29.0      257 0.10\n",
      "            30.0      200 0.08\n",
      "           -11.0      130 0.05\n",
      "           -12.0      125 0.05\n",
      "           -13.0       96 0.04\n",
      "            31.0       85 0.03\n",
      "           -14.0       55 0.02\n",
      "            33.0       36 0.01\n",
      "            32.0       33 0.01\n",
      "            34.0       18 0.01\n",
      "            35.0       10 0.00\n",
      "            36.0        5 0.00\n",
      "            38.0        3 0.00\n",
      "            40.0        2 0.00\n",
      "            37.0        1 0.00\n",
      "           -15.0        1 0.00\n"
     ]
    }
   ],
   "source": [
    "cur.execute('SELECT nutriscore_score, cnt, ROUND(100.0 * (( cnt) / (sum(cnt) OVER ())), 2) AS percentage FROM ( SELECT nutriscore_score,  count(*) AS cnt FROM records WHERE nutriscore_score::FLOAT IS NOT NULL  GROUP BY nutriscore_score ORDER BY cnt DESC ) x;')\n",
    "res = cur.fetchall()\n",
    "\n",
    "print('\\nNombre de produits par nutriscore et % associés : \\n')\n",
    "df = pd.DataFrame(res, columns=['nutriscore_score', 'n count', '%'])\n",
    "print(df.to_string(index=False))"
   ]
  },
  {
   "cell_type": "markdown",
   "id": "b497e550-06db-4778-8e9a-0f5a9ebea4f6",
   "metadata": {},
   "source": [
    "-------\n",
    "#### 2️⃣ | Les 4 valeurs possibles du Nova_Group <a name=2></a>"
   ]
  },
  {
   "cell_type": "markdown",
   "id": "19945620-4afc-4540-af43-f25dadee9ca8",
   "metadata": {},
   "source": [
    "```sql\n",
    "SELECT DISTINCT(nova_group) FROM records ORDER BY nova_group DESC;\n",
    "```"
   ]
  },
  {
   "cell_type": "code",
   "execution_count": 3,
   "id": "6c8e87b3-93fe-41e9-9c63-3cdf432163df",
   "metadata": {
    "jupyter": {
     "source_hidden": true
    },
    "tags": []
   },
   "outputs": [
    {
     "name": "stdout",
     "output_type": "stream",
     "text": [
      "\n",
      "Les 4 valeurs possibles du `nova_group` :\n",
      "\n",
      "Nova group values\n",
      "             None\n",
      "              4.0\n",
      "              3.0\n",
      "              2.0\n",
      "              1.0\n"
     ]
    }
   ],
   "source": [
    "cur.execute('SELECT DISTINCT(nova_group) FROM records ORDER BY nova_group DESC;')\n",
    "res = cur.fetchall()\n",
    "\n",
    "print('\\nLes 4 valeurs possibles du `nova_group` :\\n')\n",
    "df = pd.DataFrame(res, columns=['Nova group values'])\n",
    "print(df.to_string(index=False))"
   ]
  },
  {
   "cell_type": "markdown",
   "id": "f2a8fadc-8e04-4cc0-a5f5-ffe60a0a9b7a",
   "metadata": {},
   "source": [
    "---------\n",
    "#### 3️⃣ | Quel est la moyenne des fibres par nutriscore ? <a name=3></a>"
   ]
  },
  {
   "cell_type": "markdown",
   "id": "ace3b6cc-f325-445f-a4f9-8fe3d25ee421",
   "metadata": {
    "tags": []
   },
   "source": [
    "```sql\n",
    "SELECT\n",
    "\tnutriscore_score,\n",
    "\tAVG(fiber_100g::FLOAT) as avg_fiber_per_100g\n",
    "FROM records\n",
    "WHERE nutriscore_score::FLOAT IS NOT NULL \n",
    "GROUP BY nutriscore_score\n",
    "ORDER BY avg_fiber_per_100g DESC\n",
    "```"
   ]
  },
  {
   "cell_type": "code",
   "execution_count": 14,
   "id": "79a68c41-da87-48e6-8a65-4eb934adec5d",
   "metadata": {
    "jupyter": {
     "source_hidden": true
    },
    "tags": []
   },
   "outputs": [
    {
     "name": "stdout",
     "output_type": "stream",
     "text": [
      "\n",
      "Moyenne des fibres par nutriscore :\n",
      "\n",
      "Nutriscore  Fibre pour 100g\n",
      "      -1.0         3.242917\n",
      "     -10.0         5.130479\n",
      "     -11.0         6.642538\n",
      "     -12.0         6.188640\n",
      "     -13.0         6.902083\n",
      "     -14.0         6.976364\n",
      "     -15.0        20.000000\n",
      "      -2.0         3.284266\n",
      "      -3.0         2.908948\n",
      "      -4.0         3.614725\n",
      "      -5.0         5.560119\n",
      "      -6.0         7.127910\n",
      "      -7.0         5.872383\n",
      "      -8.0         8.836483\n",
      "      -9.0         4.663594\n",
      "       0.0         2.562328\n",
      "       1.0         1.802210\n",
      "      10.0         3.906644\n",
      "      11.0         3.093220\n",
      "      12.0         2.858084\n",
      "      13.0         2.481809\n",
      "      14.0         1.781905\n",
      "      15.0         1.893567\n",
      "      16.0         1.732417\n",
      "      17.0         2.210963\n",
      "      18.0         2.205383\n",
      "      19.0         2.092816\n",
      "       2.0         1.669167\n",
      "      20.0         2.280234\n",
      "      21.0         2.385261\n",
      "      22.0         1.925602\n",
      "      23.0         1.781046\n",
      "      24.0         1.569632\n",
      "      25.0         1.425113\n",
      "      26.0         0.909289\n",
      "      27.0         0.628785\n",
      "      28.0         0.593098\n",
      "      29.0         0.883036\n",
      "       3.0         1.582227\n",
      "      30.0         0.767039\n",
      "      31.0         1.232394\n",
      "      32.0         0.973077\n",
      "      33.0         0.706250\n",
      "      34.0         0.000000\n",
      "      35.0         0.125000\n",
      "      36.0         0.000000\n",
      "      37.0              NaN\n",
      "      38.0         0.000000\n",
      "       4.0         1.319565\n",
      "      40.0         0.000000\n",
      "       5.0         1.239821\n",
      "       6.0         3.910574\n",
      "       7.0         4.756405\n",
      "       8.0         5.526854\n",
      "       9.0         5.431797\n"
     ]
    }
   ],
   "source": [
    "cur.execute('SELECT nutriscore_score, AVG(fiber_100g::FLOAT) as avg_fiber_per_100g FROM records WHERE nutriscore_score::FLOAT IS NOT NULL GROUP BY nutriscore_score ORDER BY avg_fiber_per_100g DESC')\n",
    "res = cur.fetchall()\n",
    "\n",
    "print('\\nMoyenne des fibres par nutriscore :\\n')\n",
    "df = pd.DataFrame(res, columns=['Nutriscore', 'Fibre pour 100g'])\n",
    "df = df.sort_values(by='Nutriscore')\n",
    "print(df.to_string(index=False))"
   ]
  },
  {
   "cell_type": "markdown",
   "id": "a7fb4317-90f6-4250-b7d5-9c2b13c79434",
   "metadata": {},
   "source": [
    "-----\n",
    "#### 4️⃣ | Quels sont le TOP10 des pnns_groups_2 qui comportent le plus d'additifs <a name='4'></a>"
   ]
  },
  {
   "cell_type": "markdown",
   "id": "0ea17ecc-db10-4658-a924-168a44daeb97",
   "metadata": {},
   "source": [
    "```sql\n",
    "SELECT\n",
    "\tpnns_groups_2,\n",
    "\tAVG(additives_n::FLOAT) as additives_n\n",
    "FROM records\n",
    "GROUP BY pnns_groups_2\n",
    "ORDER BY additives_n DESC\n",
    "LIMIT 10;\n",
    "```"
   ]
  },
  {
   "cell_type": "code",
   "execution_count": 16,
   "id": "672d9e28-11d6-4048-85d4-28680d5a335c",
   "metadata": {
    "jupyter": {
     "source_hidden": true
    },
    "tags": []
   },
   "outputs": [
    {
     "name": "stdout",
     "output_type": "stream",
     "text": [
      "\n",
      "Quels sont le TOP10 des pnns_groups_2 qui comportent le plus d'additifs\n",
      "\n",
      "                    pnns_group_2  N additifs\n",
      "                      Sandwiches    7.430631\n",
      "                       Ice cream    6.197309\n",
      "              Biscuits and cakes    5.942924\n",
      "          Pizza pies and quiches    5.348089\n",
      "Artificially sweetened beverages    5.049776\n",
      "                           Bread    3.821809\n",
      "                          Sweets    3.817673\n",
      "                  Dairy desserts    3.066038\n",
      "                        Pastries    2.811321\n",
      "    Plant-based milk substitutes    2.748954\n"
     ]
    }
   ],
   "source": [
    "cur.execute('SELECT pnns_groups_2, AVG(additives_n::FLOAT) as additives_n FROM records GROUP BY pnns_groups_2 ORDER BY additives_n DESC LIMIT 10;')\n",
    "res = cur.fetchall()\n",
    "\n",
    "print('\\nQuels sont le TOP10 des pnns_groups_2 qui comportent le plus d\\'additifs\\n')\n",
    "df = pd.DataFrame(res, columns=['pnns_group_2', 'N additifs'])\n",
    "print(df.to_string(index=False))"
   ]
  },
  {
   "cell_type": "markdown",
   "id": "b3777f26-e6af-4f0d-a178-a1874776a13a",
   "metadata": {},
   "source": [
    "------\n",
    "#### 5️⃣ | Afficher le taux de sucre/fat moyen et médian des produits avec un nutriscore A ou B <a name=5></a>"
   ]
  },
  {
   "cell_type": "markdown",
   "id": "3d9b03a6-bf34-45e6-b4e4-991c6a52ca84",
   "metadata": {},
   "source": [
    "```sql\n",
    "SELECT\n",
    "    nutriscore_grade,\n",
    "\tAVG(sugars_100g::FLOAT) avg_sugar,\n",
    "\tAVG(fat_100g::FLOAT) avg_fat,\n",
    "\t(SELECT percentile_disc(0.5) WITHIN GROUP (order by records.sugars_100g) FROM records) as med_sugar,\n",
    "\t(SELECT percentile_disc(0.5) WITHIN GROUP (order by records.fat_100g) FROM records) as med_fat\n",
    "FROM records\n",
    "WHERE nutriscore_grade = 'a' OR nutriscore_grade = 'b'\n",
    "GROUP BY nutriscore_grade\n",
    "```"
   ]
  },
  {
   "cell_type": "code",
   "execution_count": 17,
   "id": "81e25609-aec5-4d26-96cc-46d6321a38b0",
   "metadata": {
    "jupyter": {
     "source_hidden": true
    },
    "tags": []
   },
   "outputs": [
    {
     "name": "stdout",
     "output_type": "stream",
     "text": [
      "\n",
      "Taux moyen/medin de sucre/fat pour les produits avec un nutriscore A ou B\n",
      "\n",
      "nutriscore  avg surgar  avg fat med sugar med fat\n",
      "         a    3.811035 4.109291      20.0     2.0\n",
      "         b    4.914000 5.070053      20.0     2.0\n"
     ]
    }
   ],
   "source": [
    "cur.execute('SELECT nutriscore_grade, AVG(sugars_100g::FLOAT) avg_sugar, AVG(fat_100g::FLOAT) avg_fat, (SELECT percentile_disc(0.5) WITHIN GROUP (order by records.sugars_100g) FROM records) as med_sugar, (SELECT percentile_disc(0.5) WITHIN GROUP (order by records.fat_100g) FROM records) as med_fat FROM records WHERE nutriscore_grade = \\'a\\' OR nutriscore_grade = \\'b\\' GROUP BY nutriscore_grade')\n",
    "res = cur.fetchall()\n",
    "\n",
    "print('\\nTaux moyen/medin de sucre/fat pour les produits avec un nutriscore A ou B\\n')\n",
    "df = pd.DataFrame(res, columns=['nutriscore', 'avg surgar', 'avg fat', 'med sugar', 'med fat'])\n",
    "print(df.to_string(index=False))"
   ]
  },
  {
   "cell_type": "markdown",
   "id": "cad90690-11ff-4206-b237-48041523b788",
   "metadata": {},
   "source": [
    "----\n",
    "#### 6️⃣ | Combien avons-nous de produits qui ont un taux de carbohydrates > aux sucres <a name=6></a>"
   ]
  },
  {
   "cell_type": "markdown",
   "id": "befc4ffa-72dc-49af-a26f-a206d72319e9",
   "metadata": {
    "tags": []
   },
   "source": [
    "```sql\n",
    "SELECT\n",
    "\tCOUNT(DISTINCT(code))\n",
    "FROM records\n",
    "WHERE carbohydrates_100g::FLOAT > sugars_100g::FLOAT\n",
    "````"
   ]
  },
  {
   "cell_type": "code",
   "execution_count": 18,
   "id": "dfd7adde-44e6-41cc-ba45-51446cb37c2c",
   "metadata": {
    "jupyter": {
     "source_hidden": true
    },
    "tags": []
   },
   "outputs": [
    {
     "name": "stdout",
     "output_type": "stream",
     "text": [
      "\n",
      "Nombre de produits ou le taux de carbohydrates > sucres : 308294\n",
      "\n"
     ]
    }
   ],
   "source": [
    "cur.execute('SELECT COUNT(DISTINCT(code)) FROM records WHERE carbohydrates_100g::FLOAT > sugars_100g::FLOAT')\n",
    "res = cur.fetchall()\n",
    "\n",
    "print(f'\\nNombre de produits ou le taux de carbohydrates > sucres : {res[0][0]}\\n')"
   ]
  }
 ],
 "metadata": {
  "kernelspec": {
   "display_name": "Python 3",
   "language": "python",
   "name": "python3"
  },
  "language_info": {
   "codemirror_mode": {
    "name": "ipython",
    "version": 3
   },
   "file_extension": ".py",
   "mimetype": "text/x-python",
   "name": "python",
   "nbconvert_exporter": "python",
   "pygments_lexer": "ipython3",
   "version": "3.8.8"
  },
  "widgets": {
   "application/vnd.jupyter.widget-state+json": {
    "state": {},
    "version_major": 2,
    "version_minor": 0
   }
  }
 },
 "nbformat": 4,
 "nbformat_minor": 5
}
